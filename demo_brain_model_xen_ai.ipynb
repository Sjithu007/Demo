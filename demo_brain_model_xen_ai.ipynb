{
  "nbformat": 4,
  "nbformat_minor": 0,
  "metadata": {
    "colab": {
      "name": "demo brain model_xen.ai",
      "provenance": [],
      "collapsed_sections": [],
      "authorship_tag": "ABX9TyMpPv/oAAlp0RAXUDQZEM2A",
      "include_colab_link": true
    },
    "kernelspec": {
      "name": "python3",
      "display_name": "Python 3"
    },
    "language_info": {
      "name": "python"
    }
  },
  "cells": [
    {
      "cell_type": "markdown",
      "metadata": {
        "id": "view-in-github",
        "colab_type": "text"
      },
      "source": [
        "<a href=\"https://colab.research.google.com/github/Sjithu007/Demo/blob/master/demo_brain_model_xen_ai.ipynb\" target=\"_parent\"><img src=\"https://colab.research.google.com/assets/colab-badge.svg\" alt=\"Open In Colab\"/></a>"
      ]
    },
    {
      "cell_type": "code",
      "metadata": {
        "colab": {
          "base_uri": "https://localhost:8080/"
        },
        "id": "0znRYE3ynsqM",
        "outputId": "8c418830-326e-4862-87d5-d06cbdcb5c64"
      },
      "source": [
        "from google.colab import drive\n",
        "drive.mount('/content/gdrive')"
      ],
      "execution_count": null,
      "outputs": [
        {
          "output_type": "stream",
          "text": [
            "Drive already mounted at /content/gdrive; to attempt to forcibly remount, call drive.mount(\"/content/gdrive\", force_remount=True).\n"
          ],
          "name": "stdout"
        }
      ]
    },
    {
      "cell_type": "code",
      "metadata": {
        "id": "uPbcq89Tn7kI"
      },
      "source": [
        "import os\n",
        "os.environ['KAGGLE_CONFIG_DIR'] = \"/content/gdrive/MyDrive/Kaggle\""
      ],
      "execution_count": null,
      "outputs": []
    },
    {
      "cell_type": "code",
      "metadata": {
        "colab": {
          "base_uri": "https://localhost:8080/"
        },
        "id": "PaiD_LlcoIG9",
        "outputId": "a2d0b759-8a57-498c-cd14-5323dbcf34d8"
      },
      "source": [
        "#changing the working directory\n",
        "%cd /content/gdrive/My Drive/Kaggle"
      ],
      "execution_count": null,
      "outputs": [
        {
          "output_type": "stream",
          "text": [
            "/content/gdrive/My Drive/Kaggle\n"
          ],
          "name": "stdout"
        }
      ]
    },
    {
      "cell_type": "code",
      "metadata": {
        "colab": {
          "base_uri": "https://localhost:8080/"
        },
        "id": "70ZwPdG_odJA",
        "outputId": "e695ca4d-71d5-4090-f442-399432e82fce"
      },
      "source": [
        "!kaggle datasets download -d navoneel/brain-mri-images-for-brain-tumor-detection"
      ],
      "execution_count": null,
      "outputs": [
        {
          "output_type": "stream",
          "text": [
            "Downloading brain-mri-images-for-brain-tumor-detection.zip to /content/gdrive/MyDrive/Kaggle\n",
            " 93% 14.0M/15.1M [00:00<00:00, 45.1MB/s]\n",
            "100% 15.1M/15.1M [00:00<00:00, 50.4MB/s]\n"
          ],
          "name": "stdout"
        }
      ]
    },
    {
      "cell_type": "code",
      "metadata": {
        "id": "JdkEGLFwnrq3",
        "colab": {
          "base_uri": "https://localhost:8080/"
        },
        "outputId": "0b7a4456-21c0-47dd-c3f4-cd7e82181ec0"
      },
      "source": [
        "#unzipping the zip files and deleting the zip files\n",
        "!unzip \\*.zip  && rm *.zip"
      ],
      "execution_count": null,
      "outputs": [
        {
          "output_type": "stream",
          "text": [
            "Archive:  brain-mri-images-for-brain-tumor-detection.zip\n",
            "replace brain_tumor_dataset/no/1 no.jpeg? [y]es, [n]o, [A]ll, [N]one, [r]ename: n\n",
            "replace brain_tumor_dataset/no/10 no.jpg? [y]es, [n]o, [A]ll, [N]one, [r]ename: n\n",
            "replace brain_tumor_dataset/no/11 no.jpg? [y]es, [n]o, [A]ll, [N]one, [r]ename: n A\n",
            "replace brain_tumor_dataset/no/12 no.jpg? [y]es, [n]o, [A]ll, [N]one, [r]ename: n\n",
            "replace brain_tumor_dataset/no/13 no.jpg? [y]es, [n]o, [A]ll, [N]one, [r]ename: "
          ],
          "name": "stdout"
        }
      ]
    },
    {
      "cell_type": "code",
      "metadata": {
        "id": "HptwBccomDuL"
      },
      "source": [
        "import numpy as np\n",
        "from glob import glob\n",
        "\n",
        "yes = np.array(glob(\"/content/gdrive/MyDrive/Kaggle/brain_tumor_dataset/yes/*\"))\n",
        "no = np.array(glob(\"/content/gdrive/MyDrive/Kaggle/brain_tumor_dataset/no/*\"))"
      ],
      "execution_count": null,
      "outputs": []
    },
    {
      "cell_type": "code",
      "metadata": {
        "colab": {
          "base_uri": "https://localhost:8080/",
          "height": 352
        },
        "id": "z22Or2Gpt_8W",
        "outputId": "1e4119b2-b666-4af3-f84d-30e704d8ab7d"
      },
      "source": [
        "import matplotlib.pyplot as plt\n",
        "\n",
        "fig= plt.figure()\n",
        "ax = fig.add_axes([0,0,1,1])\n",
        "ax.bar(['Tumor MRI scan','Normal MRI scan'],[len(yes),len(no)])\n",
        "ax.set_title('Dataset ('+str(len(yes)+len(no))+')')\n",
        "plt.show()\n",
        "\n"
      ],
      "execution_count": null,
      "outputs": [
        {
          "output_type": "display_data",
          "data": {
            "image/png": "[encoded data removed]",
            "text/plain": [
              "<Figure size 432x288 with 1 Axes>"
            ]
          },
          "metadata": {
            "tags": [],
            "needs_background": "light"
          }
        }
      ]
    },
    {
      "cell_type": "code",
      "metadata": {
        "colab": {
          "base_uri": "https://localhost:8080/",
          "height": 545
        },
        "id": "meDlQiJkur1S",
        "outputId": "27ec7e07-3384-41e2-c75c-d8494b5222e3"
      },
      "source": [
        "import cv2\n",
        "import matplotlib.pyplot as plt\n",
        "\n",
        "img = cv2.imread(yes[0])\n",
        "plt.imshow(img)\n",
        "plt.title('Tumor MRI scan')\n",
        "plt.show()\n",
        "\n",
        "img = cv2.imread(no[0])\n",
        "plt.imshow(img)\n",
        "plt.title('Normal MRI scan')\n",
        "plt.show()"
      ],
      "execution_count": null,
      "outputs": [
        {
          "output_type": "display_data",
          "data": {
            "image/png": "[encoded data removed]",
            "text/plain": [
              "<Figure size 432x288 with 1 Axes>"
            ]
          },
          "metadata": {
            "tags": [],
            "needs_background": "light"
          }
        },
        {
          "output_type": "display_data",
          "data": {
            "image/png": "[encoded data removed]",
            "text/plain": [
              "<Figure size 432x288 with 1 Axes>"
            ]
          },
          "metadata": {
            "tags": [],
            "needs_background": "light"
          }
        }
      ]
    },
    {
      "cell_type": "markdown",
      "metadata": {
        "id": "GK2K2cJa4m84"
      },
      "source": [
        "**Image Data Preparation**"
      ]
    },
    {
      "cell_type": "code",
      "metadata": {
        "id": "P1Nu0mTUvK6a"
      },
      "source": [
        "data = np.concatenate([yes,no])"
      ],
      "execution_count": null,
      "outputs": []
    },
    {
      "cell_type": "code",
      "metadata": {
        "colab": {
          "base_uri": "https://localhost:8080/"
        },
        "id": "vm-iRq-8AjoM",
        "outputId": "0a4f811e-d574-42e6-8b83-9e4d2eeb0d37"
      },
      "source": [
        "data"
      ],
      "execution_count": null,
      "outputs": [
        {
          "output_type": "execute_result",
          "data": {
            "text/plain": [
              "array(['/content/gdrive/MyDrive/Kaggle/brain_tumor_dataset/yes/Y170.JPG',\n",
              "       '/content/gdrive/MyDrive/Kaggle/brain_tumor_dataset/yes/Y244.JPG',\n",
              "       '/content/gdrive/MyDrive/Kaggle/brain_tumor_dataset/yes/Y65.JPG',\n",
              "       '/content/gdrive/MyDrive/Kaggle/brain_tumor_dataset/yes/Y100.JPG',\n",
              "       '/content/gdrive/MyDrive/Kaggle/brain_tumor_dataset/yes/Y162.jpg',\n",
              "       '/content/gdrive/MyDrive/Kaggle/brain_tumor_dataset/yes/Y45.JPG',\n",
              "       '/content/gdrive/MyDrive/Kaggle/brain_tumor_dataset/yes/Y18.JPG',\n",
              "       '/content/gdrive/MyDrive/Kaggle/brain_tumor_dataset/yes/Y17.jpg',\n",
              "       '/content/gdrive/MyDrive/Kaggle/brain_tumor_dataset/yes/Y101.jpg',\n",
              "       '/content/gdrive/MyDrive/Kaggle/brain_tumor_dataset/yes/Y249.JPG',\n",
              "       '/content/gdrive/MyDrive/Kaggle/brain_tumor_dataset/yes/Y82.jpg',\n",
              "       '/content/gdrive/MyDrive/Kaggle/brain_tumor_dataset/yes/Y71.JPG',\n",
              "       '/content/gdrive/MyDrive/Kaggle/brain_tumor_dataset/yes/Y41.jpg',\n",
              "       '/content/gdrive/MyDrive/Kaggle/brain_tumor_dataset/yes/Y39.jpg',\n",
              "       '/content/gdrive/MyDrive/Kaggle/brain_tumor_dataset/yes/Y147.JPG',\n",
              "       '/content/gdrive/MyDrive/Kaggle/brain_tumor_dataset/yes/Y7.jpg',\n",
              "       '/content/gdrive/MyDrive/Kaggle/brain_tumor_dataset/yes/Y90.jpg',\n",
              "       '/content/gdrive/MyDrive/Kaggle/brain_tumor_dataset/yes/Y158.JPG',\n",
              "       '/content/gdrive/MyDrive/Kaggle/brain_tumor_dataset/yes/Y89.JPG',\n",
              "       '/content/gdrive/MyDrive/Kaggle/brain_tumor_dataset/yes/Y76.jpg',\n",
              "       '/content/gdrive/MyDrive/Kaggle/brain_tumor_dataset/yes/Y81.jpg',\n",
              "       '/content/gdrive/MyDrive/Kaggle/brain_tumor_dataset/yes/Y26.jpg',\n",
              "       '/content/gdrive/MyDrive/Kaggle/brain_tumor_dataset/yes/Y246.JPG',\n",
              "       '/content/gdrive/MyDrive/Kaggle/brain_tumor_dataset/yes/Y247.JPG',\n",
              "       '/content/gdrive/MyDrive/Kaggle/brain_tumor_dataset/yes/Y31.jpg',\n",
              "       '/content/gdrive/MyDrive/Kaggle/brain_tumor_dataset/yes/Y38.jpg',\n",
              "       '/content/gdrive/MyDrive/Kaggle/brain_tumor_dataset/yes/Y42.jpg',\n",
              "       '/content/gdrive/MyDrive/Kaggle/brain_tumor_dataset/yes/Y243.JPG',\n",
              "       '/content/gdrive/MyDrive/Kaggle/brain_tumor_dataset/yes/Y195.JPG',\n",
              "       '/content/gdrive/MyDrive/Kaggle/brain_tumor_dataset/yes/Y29.jpg',\n",
              "       '/content/gdrive/MyDrive/Kaggle/brain_tumor_dataset/yes/Y33.jpg',\n",
              "       '/content/gdrive/MyDrive/Kaggle/brain_tumor_dataset/yes/Y1.jpg',\n",
              "       '/content/gdrive/MyDrive/Kaggle/brain_tumor_dataset/yes/Y250.jpg',\n",
              "       '/content/gdrive/MyDrive/Kaggle/brain_tumor_dataset/yes/Y56.jpg',\n",
              "       '/content/gdrive/MyDrive/Kaggle/brain_tumor_dataset/yes/Y4.jpg',\n",
              "       '/content/gdrive/MyDrive/Kaggle/brain_tumor_dataset/yes/Y112.JPG',\n",
              "       '/content/gdrive/MyDrive/Kaggle/brain_tumor_dataset/yes/Y23.JPG',\n",
              "       '/content/gdrive/MyDrive/Kaggle/brain_tumor_dataset/yes/Y35.jpg',\n",
              "       '/content/gdrive/MyDrive/Kaggle/brain_tumor_dataset/yes/Y49.JPG',\n",
              "       '/content/gdrive/MyDrive/Kaggle/brain_tumor_dataset/yes/Y70.jpg',\n",
              "       '/content/gdrive/MyDrive/Kaggle/brain_tumor_dataset/yes/Y50.JPG',\n",
              "       '/content/gdrive/MyDrive/Kaggle/brain_tumor_dataset/yes/Y60.jpg',\n",
              "       '/content/gdrive/MyDrive/Kaggle/brain_tumor_dataset/yes/Y9.jpg',\n",
              "       '/content/gdrive/MyDrive/Kaggle/brain_tumor_dataset/yes/Y66.JPG',\n",
              "       '/content/gdrive/MyDrive/Kaggle/brain_tumor_dataset/yes/Y51.jpg',\n",
              "       '/content/gdrive/MyDrive/Kaggle/brain_tumor_dataset/yes/Y258.JPG',\n",
              "       '/content/gdrive/MyDrive/Kaggle/brain_tumor_dataset/yes/Y182.JPG',\n",
              "       '/content/gdrive/MyDrive/Kaggle/brain_tumor_dataset/yes/Y62.jpg',\n",
              "       '/content/gdrive/MyDrive/Kaggle/brain_tumor_dataset/yes/Y75.JPG',\n",
              "       '/content/gdrive/MyDrive/Kaggle/brain_tumor_dataset/yes/Y164.JPG',\n",
              "       '/content/gdrive/MyDrive/Kaggle/brain_tumor_dataset/yes/Y98.JPG',\n",
              "       '/content/gdrive/MyDrive/Kaggle/brain_tumor_dataset/yes/Y114.JPG',\n",
              "       '/content/gdrive/MyDrive/Kaggle/brain_tumor_dataset/yes/Y21.jpg',\n",
              "       '/content/gdrive/MyDrive/Kaggle/brain_tumor_dataset/yes/Y192.JPG',\n",
              "       '/content/gdrive/MyDrive/Kaggle/brain_tumor_dataset/yes/Y3.jpg',\n",
              "       '/content/gdrive/MyDrive/Kaggle/brain_tumor_dataset/yes/Y44.JPG',\n",
              "       '/content/gdrive/MyDrive/Kaggle/brain_tumor_dataset/yes/Y103.jpg',\n",
              "       '/content/gdrive/MyDrive/Kaggle/brain_tumor_dataset/yes/Y13.jpg',\n",
              "       '/content/gdrive/MyDrive/Kaggle/brain_tumor_dataset/yes/Y106.jpg',\n",
              "       '/content/gdrive/MyDrive/Kaggle/brain_tumor_dataset/yes/Y95.jpg',\n",
              "       '/content/gdrive/MyDrive/Kaggle/brain_tumor_dataset/yes/Y255.JPG',\n",
              "       '/content/gdrive/MyDrive/Kaggle/brain_tumor_dataset/yes/Y12.jpg',\n",
              "       '/content/gdrive/MyDrive/Kaggle/brain_tumor_dataset/yes/Y67.JPG',\n",
              "       '/content/gdrive/MyDrive/Kaggle/brain_tumor_dataset/yes/Y30.jpg',\n",
              "       '/content/gdrive/MyDrive/Kaggle/brain_tumor_dataset/yes/Y25.jpg',\n",
              "       '/content/gdrive/MyDrive/Kaggle/brain_tumor_dataset/yes/Y92.png',\n",
              "       '/content/gdrive/MyDrive/Kaggle/brain_tumor_dataset/yes/Y188.jpg',\n",
              "       '/content/gdrive/MyDrive/Kaggle/brain_tumor_dataset/yes/Y251.JPG',\n",
              "       '/content/gdrive/MyDrive/Kaggle/brain_tumor_dataset/yes/Y148.JPG',\n",
              "       '/content/gdrive/MyDrive/Kaggle/brain_tumor_dataset/yes/Y113.JPG',\n",
              "       '/content/gdrive/MyDrive/Kaggle/brain_tumor_dataset/yes/Y91.jpg',\n",
              "       '/content/gdrive/MyDrive/Kaggle/brain_tumor_dataset/yes/Y117.JPG',\n",
              "       '/content/gdrive/MyDrive/Kaggle/brain_tumor_dataset/yes/Y24.jpg',\n",
              "       '/content/gdrive/MyDrive/Kaggle/brain_tumor_dataset/yes/Y120.JPG',\n",
              "       '/content/gdrive/MyDrive/Kaggle/brain_tumor_dataset/yes/Y20.jpg',\n",
              "       '/content/gdrive/MyDrive/Kaggle/brain_tumor_dataset/yes/Y58.JPG',\n",
              "       '/content/gdrive/MyDrive/Kaggle/brain_tumor_dataset/yes/Y28.jpg',\n",
              "       '/content/gdrive/MyDrive/Kaggle/brain_tumor_dataset/yes/Y74.jpg',\n",
              "       '/content/gdrive/MyDrive/Kaggle/brain_tumor_dataset/yes/Y253.JPG',\n",
              "       '/content/gdrive/MyDrive/Kaggle/brain_tumor_dataset/yes/Y79.jpg',\n",
              "       '/content/gdrive/MyDrive/Kaggle/brain_tumor_dataset/yes/Y159.JPG',\n",
              "       '/content/gdrive/MyDrive/Kaggle/brain_tumor_dataset/yes/Y22.jpg',\n",
              "       '/content/gdrive/MyDrive/Kaggle/brain_tumor_dataset/yes/Y97.JPG',\n",
              "       '/content/gdrive/MyDrive/Kaggle/brain_tumor_dataset/yes/Y155.JPG',\n",
              "       '/content/gdrive/MyDrive/Kaggle/brain_tumor_dataset/yes/Y256.JPG',\n",
              "       '/content/gdrive/MyDrive/Kaggle/brain_tumor_dataset/yes/Y102.jpg',\n",
              "       '/content/gdrive/MyDrive/Kaggle/brain_tumor_dataset/yes/Y116.JPG',\n",
              "       '/content/gdrive/MyDrive/Kaggle/brain_tumor_dataset/yes/Y154.jpg',\n",
              "       '/content/gdrive/MyDrive/Kaggle/brain_tumor_dataset/yes/Y52.jpg',\n",
              "       '/content/gdrive/MyDrive/Kaggle/brain_tumor_dataset/yes/Y107.jpg',\n",
              "       '/content/gdrive/MyDrive/Kaggle/brain_tumor_dataset/yes/Y16.JPG',\n",
              "       '/content/gdrive/MyDrive/Kaggle/brain_tumor_dataset/yes/Y46.jpg',\n",
              "       '/content/gdrive/MyDrive/Kaggle/brain_tumor_dataset/yes/Y146.JPG',\n",
              "       '/content/gdrive/MyDrive/Kaggle/brain_tumor_dataset/yes/Y248.JPG',\n",
              "       '/content/gdrive/MyDrive/Kaggle/brain_tumor_dataset/yes/Y184.JPG',\n",
              "       '/content/gdrive/MyDrive/Kaggle/brain_tumor_dataset/yes/Y160.JPG',\n",
              "       '/content/gdrive/MyDrive/Kaggle/brain_tumor_dataset/yes/Y259.JPG',\n",
              "       '/content/gdrive/MyDrive/Kaggle/brain_tumor_dataset/yes/Y185.jpg',\n",
              "       '/content/gdrive/MyDrive/Kaggle/brain_tumor_dataset/yes/Y55.jpg',\n",
              "       '/content/gdrive/MyDrive/Kaggle/brain_tumor_dataset/yes/Y47.JPG',\n",
              "       '/content/gdrive/MyDrive/Kaggle/brain_tumor_dataset/yes/Y61.jpg',\n",
              "       '/content/gdrive/MyDrive/Kaggle/brain_tumor_dataset/yes/Y86.JPG',\n",
              "       '/content/gdrive/MyDrive/Kaggle/brain_tumor_dataset/yes/Y59.JPG',\n",
              "       '/content/gdrive/MyDrive/Kaggle/brain_tumor_dataset/yes/Y187.jpg',\n",
              "       '/content/gdrive/MyDrive/Kaggle/brain_tumor_dataset/yes/Y186.jpg',\n",
              "       '/content/gdrive/MyDrive/Kaggle/brain_tumor_dataset/yes/Y32.jpg',\n",
              "       '/content/gdrive/MyDrive/Kaggle/brain_tumor_dataset/yes/Y2.jpg',\n",
              "       '/content/gdrive/MyDrive/Kaggle/brain_tumor_dataset/yes/Y69.jpg',\n",
              "       '/content/gdrive/MyDrive/Kaggle/brain_tumor_dataset/yes/Y245.jpg',\n",
              "       '/content/gdrive/MyDrive/Kaggle/brain_tumor_dataset/yes/Y73.jpg',\n",
              "       '/content/gdrive/MyDrive/Kaggle/brain_tumor_dataset/yes/Y194.jpg',\n",
              "       '/content/gdrive/MyDrive/Kaggle/brain_tumor_dataset/yes/Y85.JPG',\n",
              "       '/content/gdrive/MyDrive/Kaggle/brain_tumor_dataset/yes/Y11.jpg',\n",
              "       '/content/gdrive/MyDrive/Kaggle/brain_tumor_dataset/yes/Y166.JPG',\n",
              "       '/content/gdrive/MyDrive/Kaggle/brain_tumor_dataset/yes/Y27.jpg',\n",
              "       '/content/gdrive/MyDrive/Kaggle/brain_tumor_dataset/yes/Y165.JPG',\n",
              "       '/content/gdrive/MyDrive/Kaggle/brain_tumor_dataset/yes/Y104.jpg',\n",
              "       '/content/gdrive/MyDrive/Kaggle/brain_tumor_dataset/yes/Y169.jpg',\n",
              "       '/content/gdrive/MyDrive/Kaggle/brain_tumor_dataset/yes/Y8.jpg',\n",
              "       '/content/gdrive/MyDrive/Kaggle/brain_tumor_dataset/yes/Y10.jpg',\n",
              "       '/content/gdrive/MyDrive/Kaggle/brain_tumor_dataset/yes/Y157.JPG',\n",
              "       '/content/gdrive/MyDrive/Kaggle/brain_tumor_dataset/yes/Y161.JPG',\n",
              "       '/content/gdrive/MyDrive/Kaggle/brain_tumor_dataset/yes/Y108.jpg',\n",
              "       '/content/gdrive/MyDrive/Kaggle/brain_tumor_dataset/yes/Y77.jpg',\n",
              "       '/content/gdrive/MyDrive/Kaggle/brain_tumor_dataset/yes/Y53.jpg',\n",
              "       '/content/gdrive/MyDrive/Kaggle/brain_tumor_dataset/yes/Y181.jpg',\n",
              "       '/content/gdrive/MyDrive/Kaggle/brain_tumor_dataset/yes/Y257.jpg',\n",
              "       '/content/gdrive/MyDrive/Kaggle/brain_tumor_dataset/yes/Y96.jpg',\n",
              "       '/content/gdrive/MyDrive/Kaggle/brain_tumor_dataset/yes/Y40.JPG',\n",
              "       '/content/gdrive/MyDrive/Kaggle/brain_tumor_dataset/yes/Y105.jpg',\n",
              "       '/content/gdrive/MyDrive/Kaggle/brain_tumor_dataset/yes/Y14.jpg',\n",
              "       '/content/gdrive/MyDrive/Kaggle/brain_tumor_dataset/yes/Y34.jpg',\n",
              "       '/content/gdrive/MyDrive/Kaggle/brain_tumor_dataset/yes/Y78.jpg',\n",
              "       '/content/gdrive/MyDrive/Kaggle/brain_tumor_dataset/yes/Y109.JPG',\n",
              "       '/content/gdrive/MyDrive/Kaggle/brain_tumor_dataset/yes/Y6.jpg',\n",
              "       '/content/gdrive/MyDrive/Kaggle/brain_tumor_dataset/yes/Y37.jpg',\n",
              "       '/content/gdrive/MyDrive/Kaggle/brain_tumor_dataset/yes/Y252.jpg',\n",
              "       '/content/gdrive/MyDrive/Kaggle/brain_tumor_dataset/yes/Y193.JPG',\n",
              "       '/content/gdrive/MyDrive/Kaggle/brain_tumor_dataset/yes/Y153.jpg',\n",
              "       '/content/gdrive/MyDrive/Kaggle/brain_tumor_dataset/yes/Y15.jpg',\n",
              "       '/content/gdrive/MyDrive/Kaggle/brain_tumor_dataset/yes/Y36.JPG',\n",
              "       '/content/gdrive/MyDrive/Kaggle/brain_tumor_dataset/yes/Y180.jpg',\n",
              "       '/content/gdrive/MyDrive/Kaggle/brain_tumor_dataset/yes/Y167.JPG',\n",
              "       '/content/gdrive/MyDrive/Kaggle/brain_tumor_dataset/yes/Y168.jpg',\n",
              "       '/content/gdrive/MyDrive/Kaggle/brain_tumor_dataset/yes/Y54.jpg',\n",
              "       '/content/gdrive/MyDrive/Kaggle/brain_tumor_dataset/yes/Y19.JPG',\n",
              "       '/content/gdrive/MyDrive/Kaggle/brain_tumor_dataset/yes/Y111.JPG',\n",
              "       '/content/gdrive/MyDrive/Kaggle/brain_tumor_dataset/yes/Y156.JPG',\n",
              "       '/content/gdrive/MyDrive/Kaggle/brain_tumor_dataset/yes/Y163.JPG',\n",
              "       '/content/gdrive/MyDrive/Kaggle/brain_tumor_dataset/yes/Y92.jpg',\n",
              "       '/content/gdrive/MyDrive/Kaggle/brain_tumor_dataset/yes/Y99.JPG',\n",
              "       '/content/gdrive/MyDrive/Kaggle/brain_tumor_dataset/yes/Y183.jpg',\n",
              "       '/content/gdrive/MyDrive/Kaggle/brain_tumor_dataset/yes/Y254.jpg',\n",
              "       '/content/gdrive/MyDrive/Kaggle/brain_tumor_dataset/yes/Y115.JPG',\n",
              "       '/content/gdrive/MyDrive/Kaggle/brain_tumor_dataset/yes/Y242.JPG',\n",
              "       '/content/gdrive/MyDrive/Kaggle/brain_tumor_dataset/no/1 no.jpeg',\n",
              "       '/content/gdrive/MyDrive/Kaggle/brain_tumor_dataset/no/10 no.jpg',\n",
              "       '/content/gdrive/MyDrive/Kaggle/brain_tumor_dataset/no/11 no.jpg',\n",
              "       '/content/gdrive/MyDrive/Kaggle/brain_tumor_dataset/no/49 no.jpg',\n",
              "       '/content/gdrive/MyDrive/Kaggle/brain_tumor_dataset/no/23 no.jpg',\n",
              "       '/content/gdrive/MyDrive/Kaggle/brain_tumor_dataset/no/12 no.jpg',\n",
              "       '/content/gdrive/MyDrive/Kaggle/brain_tumor_dataset/no/41 no.jpg',\n",
              "       '/content/gdrive/MyDrive/Kaggle/brain_tumor_dataset/no/47 no.jpg',\n",
              "       '/content/gdrive/MyDrive/Kaggle/brain_tumor_dataset/no/N16.jpg',\n",
              "       '/content/gdrive/MyDrive/Kaggle/brain_tumor_dataset/no/48 no.jpeg',\n",
              "       '/content/gdrive/MyDrive/Kaggle/brain_tumor_dataset/no/24 no.jpg',\n",
              "       '/content/gdrive/MyDrive/Kaggle/brain_tumor_dataset/no/40 no.jpg',\n",
              "       '/content/gdrive/MyDrive/Kaggle/brain_tumor_dataset/no/32 no.jpg',\n",
              "       '/content/gdrive/MyDrive/Kaggle/brain_tumor_dataset/no/2 no.jpeg',\n",
              "       '/content/gdrive/MyDrive/Kaggle/brain_tumor_dataset/no/18 no.jpg',\n",
              "       '/content/gdrive/MyDrive/Kaggle/brain_tumor_dataset/no/N2.JPG',\n",
              "       '/content/gdrive/MyDrive/Kaggle/brain_tumor_dataset/no/3 no.jpg',\n",
              "       '/content/gdrive/MyDrive/Kaggle/brain_tumor_dataset/no/9 no.jpg',\n",
              "       '/content/gdrive/MyDrive/Kaggle/brain_tumor_dataset/no/29 no.jpg',\n",
              "       '/content/gdrive/MyDrive/Kaggle/brain_tumor_dataset/no/35 no.jpg',\n",
              "       '/content/gdrive/MyDrive/Kaggle/brain_tumor_dataset/no/5 no.jpg',\n",
              "       '/content/gdrive/MyDrive/Kaggle/brain_tumor_dataset/no/39 no.jpg',\n",
              "       '/content/gdrive/MyDrive/Kaggle/brain_tumor_dataset/no/N11.jpg',\n",
              "       '/content/gdrive/MyDrive/Kaggle/brain_tumor_dataset/no/7 no.jpg',\n",
              "       '/content/gdrive/MyDrive/Kaggle/brain_tumor_dataset/no/36 no.jpg',\n",
              "       '/content/gdrive/MyDrive/Kaggle/brain_tumor_dataset/no/43 no.jpg',\n",
              "       '/content/gdrive/MyDrive/Kaggle/brain_tumor_dataset/no/31 no.jpg',\n",
              "       '/content/gdrive/MyDrive/Kaggle/brain_tumor_dataset/no/28 no.jpg',\n",
              "       '/content/gdrive/MyDrive/Kaggle/brain_tumor_dataset/no/14 no.jpg',\n",
              "       '/content/gdrive/MyDrive/Kaggle/brain_tumor_dataset/no/22 no.jpg',\n",
              "       '/content/gdrive/MyDrive/Kaggle/brain_tumor_dataset/no/25 no.jpg',\n",
              "       '/content/gdrive/MyDrive/Kaggle/brain_tumor_dataset/no/26 no.jpg',\n",
              "       '/content/gdrive/MyDrive/Kaggle/brain_tumor_dataset/no/21 no.jpg',\n",
              "       '/content/gdrive/MyDrive/Kaggle/brain_tumor_dataset/no/N22.JPG',\n",
              "       '/content/gdrive/MyDrive/Kaggle/brain_tumor_dataset/no/N1.JPG',\n",
              "       '/content/gdrive/MyDrive/Kaggle/brain_tumor_dataset/no/33 no.jpg',\n",
              "       '/content/gdrive/MyDrive/Kaggle/brain_tumor_dataset/no/45 no.jpg',\n",
              "       '/content/gdrive/MyDrive/Kaggle/brain_tumor_dataset/no/19 no.jpg',\n",
              "       '/content/gdrive/MyDrive/Kaggle/brain_tumor_dataset/no/37 no.jpg',\n",
              "       '/content/gdrive/MyDrive/Kaggle/brain_tumor_dataset/no/27 no.jpg',\n",
              "       '/content/gdrive/MyDrive/Kaggle/brain_tumor_dataset/no/13 no.jpg',\n",
              "       '/content/gdrive/MyDrive/Kaggle/brain_tumor_dataset/no/6 no.jpg',\n",
              "       '/content/gdrive/MyDrive/Kaggle/brain_tumor_dataset/no/38 no.jpg',\n",
              "       '/content/gdrive/MyDrive/Kaggle/brain_tumor_dataset/no/30 no.jpg',\n",
              "       '/content/gdrive/MyDrive/Kaggle/brain_tumor_dataset/no/15 no.jpg',\n",
              "       '/content/gdrive/MyDrive/Kaggle/brain_tumor_dataset/no/34 no.jpg',\n",
              "       '/content/gdrive/MyDrive/Kaggle/brain_tumor_dataset/no/42 no.jpg',\n",
              "       '/content/gdrive/MyDrive/Kaggle/brain_tumor_dataset/no/17 no.jpg',\n",
              "       '/content/gdrive/MyDrive/Kaggle/brain_tumor_dataset/no/N15.jpg',\n",
              "       '/content/gdrive/MyDrive/Kaggle/brain_tumor_dataset/no/20 no.jpg',\n",
              "       '/content/gdrive/MyDrive/Kaggle/brain_tumor_dataset/no/N20.JPG',\n",
              "       '/content/gdrive/MyDrive/Kaggle/brain_tumor_dataset/no/50 no.jpg',\n",
              "       '/content/gdrive/MyDrive/Kaggle/brain_tumor_dataset/no/N19.JPG',\n",
              "       '/content/gdrive/MyDrive/Kaggle/brain_tumor_dataset/no/4 no.jpg',\n",
              "       '/content/gdrive/MyDrive/Kaggle/brain_tumor_dataset/no/N17.jpg',\n",
              "       '/content/gdrive/MyDrive/Kaggle/brain_tumor_dataset/no/8 no.jpg',\n",
              "       '/content/gdrive/MyDrive/Kaggle/brain_tumor_dataset/no/N21.jpg',\n",
              "       '/content/gdrive/MyDrive/Kaggle/brain_tumor_dataset/no/46 no.jpg',\n",
              "       '/content/gdrive/MyDrive/Kaggle/brain_tumor_dataset/no/44no.jpg',\n",
              "       '/content/gdrive/MyDrive/Kaggle/brain_tumor_dataset/no/no 10.jpg',\n",
              "       '/content/gdrive/MyDrive/Kaggle/brain_tumor_dataset/no/no 3.jpg',\n",
              "       '/content/gdrive/MyDrive/Kaggle/brain_tumor_dataset/no/No15.jpg',\n",
              "       '/content/gdrive/MyDrive/Kaggle/brain_tumor_dataset/no/No11.jpg',\n",
              "       '/content/gdrive/MyDrive/Kaggle/brain_tumor_dataset/no/No21.jpg',\n",
              "       '/content/gdrive/MyDrive/Kaggle/brain_tumor_dataset/no/no 9.png',\n",
              "       '/content/gdrive/MyDrive/Kaggle/brain_tumor_dataset/no/No14.jpg',\n",
              "       '/content/gdrive/MyDrive/Kaggle/brain_tumor_dataset/no/no 95.jpg',\n",
              "       '/content/gdrive/MyDrive/Kaggle/brain_tumor_dataset/no/no 89.jpg',\n",
              "       '/content/gdrive/MyDrive/Kaggle/brain_tumor_dataset/no/no 94.jpg',\n",
              "       '/content/gdrive/MyDrive/Kaggle/brain_tumor_dataset/no/no.jpg',\n",
              "       '/content/gdrive/MyDrive/Kaggle/brain_tumor_dataset/no/no 99.jpg',\n",
              "       '/content/gdrive/MyDrive/Kaggle/brain_tumor_dataset/no/N5.jpg',\n",
              "       '/content/gdrive/MyDrive/Kaggle/brain_tumor_dataset/no/no 97.jpg',\n",
              "       '/content/gdrive/MyDrive/Kaggle/brain_tumor_dataset/no/no 8.jpg',\n",
              "       '/content/gdrive/MyDrive/Kaggle/brain_tumor_dataset/no/no 91.jpeg',\n",
              "       '/content/gdrive/MyDrive/Kaggle/brain_tumor_dataset/no/No16.jpg',\n",
              "       '/content/gdrive/MyDrive/Kaggle/brain_tumor_dataset/no/no 92.jpg',\n",
              "       '/content/gdrive/MyDrive/Kaggle/brain_tumor_dataset/no/No18.jpg',\n",
              "       '/content/gdrive/MyDrive/Kaggle/brain_tumor_dataset/no/no 4.jpg',\n",
              "       '/content/gdrive/MyDrive/Kaggle/brain_tumor_dataset/no/N3.jpg',\n",
              "       '/content/gdrive/MyDrive/Kaggle/brain_tumor_dataset/no/No13.jpg',\n",
              "       '/content/gdrive/MyDrive/Kaggle/brain_tumor_dataset/no/no 96.jpg',\n",
              "       '/content/gdrive/MyDrive/Kaggle/brain_tumor_dataset/no/no 2.jpg',\n",
              "       '/content/gdrive/MyDrive/Kaggle/brain_tumor_dataset/no/no 90.jpg',\n",
              "       '/content/gdrive/MyDrive/Kaggle/brain_tumor_dataset/no/No17.jpg',\n",
              "       '/content/gdrive/MyDrive/Kaggle/brain_tumor_dataset/no/No20.jpg',\n",
              "       '/content/gdrive/MyDrive/Kaggle/brain_tumor_dataset/no/no 7.jpeg',\n",
              "       '/content/gdrive/MyDrive/Kaggle/brain_tumor_dataset/no/no 98.jpg',\n",
              "       '/content/gdrive/MyDrive/Kaggle/brain_tumor_dataset/no/no 1.jpg',\n",
              "       '/content/gdrive/MyDrive/Kaggle/brain_tumor_dataset/no/No12.jpg',\n",
              "       '/content/gdrive/MyDrive/Kaggle/brain_tumor_dataset/no/no 5.jpeg',\n",
              "       '/content/gdrive/MyDrive/Kaggle/brain_tumor_dataset/no/No22.jpg',\n",
              "       '/content/gdrive/MyDrive/Kaggle/brain_tumor_dataset/no/N26.JPG',\n",
              "       '/content/gdrive/MyDrive/Kaggle/brain_tumor_dataset/no/no 100.jpg',\n",
              "       '/content/gdrive/MyDrive/Kaggle/brain_tumor_dataset/no/no 6.jpg',\n",
              "       '/content/gdrive/MyDrive/Kaggle/brain_tumor_dataset/no/No19.jpg',\n",
              "       '/content/gdrive/MyDrive/Kaggle/brain_tumor_dataset/no/no 923.jpg',\n",
              "       '/content/gdrive/MyDrive/Kaggle/brain_tumor_dataset/no/N6.jpg'],\n",
              "      dtype='<U64')"
            ]
          },
          "metadata": {
            "tags": []
          },
          "execution_count": 8
        }
      ]
    },
    {
      "cell_type": "code",
      "metadata": {
        "id": "QG_Rrlx9Akpu"
      },
      "source": [
        "target_yes = np.full(len(yes),1)\n",
        "target_no = np.full(len(no),0)"
      ],
      "execution_count": null,
      "outputs": []
    },
    {
      "cell_type": "code",
      "metadata": {
        "id": "pnGCyObGAxSG"
      },
      "source": [
        "data_target = np.concatenate([target_yes, target_no])\n",
        "\n"
      ],
      "execution_count": null,
      "outputs": []
    },
    {
      "cell_type": "code",
      "metadata": {
        "colab": {
          "base_uri": "https://localhost:8080/"
        },
        "id": "Y0joFk5FA3lj",
        "outputId": "f27711cf-d601-469b-b766-7c35c7b0842b"
      },
      "source": [
        "data_target"
      ],
      "execution_count": null,
      "outputs": [
        {
          "output_type": "execute_result",
          "data": {
            "text/plain": [
              "array([1, 1, 1, 1, 1, 1, 1, 1, 1, 1, 1, 1, 1, 1, 1, 1, 1, 1, 1, 1, 1, 1,\n",
              "       1, 1, 1, 1, 1, 1, 1, 1, 1, 1, 1, 1, 1, 1, 1, 1, 1, 1, 1, 1, 1, 1,\n",
              "       1, 1, 1, 1, 1, 1, 1, 1, 1, 1, 1, 1, 1, 1, 1, 1, 1, 1, 1, 1, 1, 1,\n",
              "       1, 1, 1, 1, 1, 1, 1, 1, 1, 1, 1, 1, 1, 1, 1, 1, 1, 1, 1, 1, 1, 1,\n",
              "       1, 1, 1, 1, 1, 1, 1, 1, 1, 1, 1, 1, 1, 1, 1, 1, 1, 1, 1, 1, 1, 1,\n",
              "       1, 1, 1, 1, 1, 1, 1, 1, 1, 1, 1, 1, 1, 1, 1, 1, 1, 1, 1, 1, 1, 1,\n",
              "       1, 1, 1, 1, 1, 1, 1, 1, 1, 1, 1, 1, 1, 1, 1, 1, 1, 1, 1, 1, 1, 1,\n",
              "       1, 0, 0, 0, 0, 0, 0, 0, 0, 0, 0, 0, 0, 0, 0, 0, 0, 0, 0, 0, 0, 0,\n",
              "       0, 0, 0, 0, 0, 0, 0, 0, 0, 0, 0, 0, 0, 0, 0, 0, 0, 0, 0, 0, 0, 0,\n",
              "       0, 0, 0, 0, 0, 0, 0, 0, 0, 0, 0, 0, 0, 0, 0, 0, 0, 0, 0, 0, 0, 0,\n",
              "       0, 0, 0, 0, 0, 0, 0, 0, 0, 0, 0, 0, 0, 0, 0, 0, 0, 0, 0, 0, 0, 0,\n",
              "       0, 0, 0, 0, 0, 0, 0, 0, 0, 0, 0])"
            ]
          },
          "metadata": {
            "tags": []
          },
          "execution_count": 11
        }
      ]
    },
    {
      "cell_type": "markdown",
      "metadata": {
        "id": "bIja9frLBCSl"
      },
      "source": [
        "**Using computer vision to read images**"
      ]
    },
    {
      "cell_type": "code",
      "metadata": {
        "colab": {
          "base_uri": "https://localhost:8080/",
          "height": 286
        },
        "id": "QfxzyUOQA5j7",
        "outputId": "f0d5e057-0d38-421b-acf1-61ab288c6335"
      },
      "source": [
        "img = cv2.imread('/content/gdrive/MyDrive/Kaggle/brain_tumor_dataset/yes/Y1.jpg')\n",
        "mri = cv2.resize(img,(64,64))      # size needs to be same for all images before training\n",
        "plt.imshow(mri)"
      ],
      "execution_count": null,
      "outputs": [
        {
          "output_type": "execute_result",
          "data": {
            "text/plain": [
              "<matplotlib.image.AxesImage at 0x7f77faeab090>"
            ]
          },
          "metadata": {
            "tags": []
          },
          "execution_count": 12
        },
        {
          "output_type": "display_data",
          "data": {
            "image/png": "[encoded data removed]",
            "text/plain": [
              "<Figure size 432x288 with 1 Axes>"
            ]
          },
          "metadata": {
            "tags": [],
            "needs_background": "light"
          }
        }
      ]
    },
    {
      "cell_type": "code",
      "metadata": {
        "colab": {
          "base_uri": "https://localhost:8080/",
          "height": 286
        },
        "id": "RGGSZHVeBfBH",
        "outputId": "b0718e53-9347-4021-de41-cc2c39ec499e"
      },
      "source": [
        "#mri # b, g , r format\n",
        "# cv2 - It reads in BGR format by default\n",
        "b, g, r = cv2.split(mri)\n",
        "img = cv2.merge([r,g,b])\n",
        "plt.imshow(img)"
      ],
      "execution_count": null,
      "outputs": [
        {
          "output_type": "execute_result",
          "data": {
            "text/plain": [
              "<matplotlib.image.AxesImage at 0x7f77fae145d0>"
            ]
          },
          "metadata": {
            "tags": []
          },
          "execution_count": 13
        },
        {
          "output_type": "display_data",
          "data": {
            "image/png": "[encoded data removed]",
            "text/plain": [
              "<Figure size 432x288 with 1 Axes>"
            ]
          },
          "metadata": {
            "tags": [],
            "needs_background": "light"
          }
        }
      ]
    },
    {
      "cell_type": "code",
      "metadata": {
        "id": "ypO09g5HDLUs"
      },
      "source": [
        "#img # in b, g, r\n",
        "X_data = []\n",
        "yes = os.listdir(\"/content/gdrive/MyDrive/Kaggle/brain_tumor_dataset/yes\")\n",
        "\n",
        "for file in yes:\n",
        "    img = cv2.imread(\"/content/gdrive/MyDrive/Kaggle/brain_tumor_dataset/yes/\"+ file)\n",
        "    mri = cv2.resize(img,(32,32)) \n",
        "    b, g, r = cv2.split(mri)\n",
        "    img = cv2.merge([r,g,b])\n",
        "    X_data.append(img)  #this will store list of all image data in array"
      ],
      "execution_count": null,
      "outputs": []
    },
    {
      "cell_type": "code",
      "metadata": {
        "id": "Ww7mBpbzFpE9"
      },
      "source": [
        "no = os.listdir(\"/content/gdrive/MyDrive/Kaggle/brain_tumor_dataset/no\")\n",
        "\n",
        "for file in no:\n",
        "    img = cv2.imread(\"/content/gdrive/MyDrive/Kaggle/brain_tumor_dataset/no/\"+ file)\n",
        "    mri = cv2.resize(img,(32,32)) \n",
        "    b, g, r = cv2.split(mri)\n",
        "    img = cv2.merge([r,g,b])\n",
        "    X_data.append(img)"
      ],
      "execution_count": null,
      "outputs": []
    },
    {
      "cell_type": "code",
      "metadata": {
        "id": "-lCyhiYP_Ez2"
      },
      "source": [
        "X = np.squeeze(X_data) # to prepare the data well"
      ],
      "execution_count": null,
      "outputs": []
    },
    {
      "cell_type": "code",
      "metadata": {
        "colab": {
          "base_uri": "https://localhost:8080/"
        },
        "id": "bv9xyY1LAD0o",
        "outputId": "0c22c393-8eb5-4717-86b7-860e0281411d"
      },
      "source": [
        "# 253 - number of images, each image is of shape (32 X 32 x 3)\n",
        "X.shape"
      ],
      "execution_count": null,
      "outputs": [
        {
          "output_type": "execute_result",
          "data": {
            "text/plain": [
              "(253, 32, 32, 3)"
            ]
          },
          "metadata": {
            "tags": []
          },
          "execution_count": 17
        }
      ]
    },
    {
      "cell_type": "markdown",
      "metadata": {
        "id": "uSf6yz_iAOJ-"
      },
      "source": [
        "\n",
        "**Image Normalization / Image Pixel Scaling**\n",
        "\n",
        "Divide every pixel by 255\n",
        "\n",
        "\n"
      ]
    },
    {
      "cell_type": "code",
      "metadata": {
        "id": "e0ve1mmoAHbA"
      },
      "source": [
        "X = X.astype('float32')\n",
        "X /= 255"
      ],
      "execution_count": null,
      "outputs": []
    },
    {
      "cell_type": "markdown",
      "metadata": {
        "id": "wVBfvBPmAdoa"
      },
      "source": [
        "\n",
        "**Train and Test Data**\n",
        "\n",
        "  \n",
        "\n",
        "*   We dont have train and test dataset, we will split our dataset\n",
        "*   Split 10% into test set\n",
        "*   Split the remaing test and train into 15% for validation\n",
        "\n",
        "\n",
        "\n",
        "\n",
        "\n",
        "  \n",
        "  \n",
        "\n",
        "\n",
        "\n",
        "\n"
      ]
    },
    {
      "cell_type": "code",
      "metadata": {
        "id": "rf9udIDaAaMg"
      },
      "source": [
        "from sklearn.model_selection import train_test_split\n",
        "x_train, x_test, y_train, y_test = train_test_split(X, data_target, test_size =0.1, random_state=3)"
      ],
      "execution_count": null,
      "outputs": []
    },
    {
      "cell_type": "code",
      "metadata": {
        "id": "zp7tbdpuAyVB"
      },
      "source": [
        "# validation set\n",
        "x_train2, x_val, y_train2, y_val = train_test_split(x_train, y_train, test_size =0.15, random_state=3)\n"
      ],
      "execution_count": null,
      "outputs": []
    },
    {
      "cell_type": "markdown",
      "metadata": {
        "id": "TXOM3h02A5Pn"
      },
      "source": [
        "\n",
        "**VGG16 16 Model - Transfer Learning**\n",
        "\n",
        "*   Default input (224 X 244)\n",
        "*   We modified into (32 x 32)\n",
        "\n",
        "\n",
        "   \n",
        "\n"
      ]
    },
    {
      "cell_type": "code",
      "metadata": {
        "id": "k8D04sHJA1kZ"
      },
      "source": [
        "from keras.models import Sequential\n",
        "from keras.layers import Flatten, Dense, Conv2D, GlobalAveragePooling2D, Dropout, BatchNormalization \n",
        "from keras.optimizers import Adam\n",
        "\n",
        "# Transfer learning model\n",
        "from keras.applications import VGG16"
      ],
      "execution_count": null,
      "outputs": []
    },
    {
      "cell_type": "code",
      "metadata": {
        "id": "D6sUvG8gBToQ"
      },
      "source": [
        "def build_model():\n",
        "    # use imagenet = pre-trained model weights called as knowlegde\n",
        "    # default shape is 244x244x3, re-declare to the orignal shape as per the data = 32x32x3\n",
        "    vgg16_model = VGG16(weights ='imagenet', include_top = False, input_shape =(32,32,3)) #include_top = False since after the layer of CNN\n",
        "    \n",
        "    # Input Layer\n",
        "    model = Sequential()\n",
        "    model.add(Conv2D(filters= 3, kernel_size=(3,3), padding='same', input_shape = (32,32,3)))\n",
        "\n",
        "    # add tranfer learning layer\n",
        "    model.add(vgg16_model)\n",
        "\n",
        "    # Average Pooling\n",
        "    model.add(GlobalAveragePooling2D())\n",
        "    model.add(BatchNormalization())\n",
        "    model.add(Dropout(0.5))\n",
        "\n",
        "    # Full Connected Layer\n",
        "    model.add(Dense(units = 512, activation='relu'))\n",
        "    model.add(BatchNormalization())\n",
        "    model.add(Dropout(0.5))\n",
        "    model.add(Dense(units = 1, activation='sigmoid'))\n",
        "\n",
        "    # Learning Rate - Adam\n",
        "    adam_optimizer = Adam(learning_rate= 0.001)\n",
        "\n",
        "    # loss = binary_crossentropy\n",
        "    model.compile(optimizer = adam_optimizer, loss = 'binary_crossentropy', metrics = ['accuracy'])\n",
        "    \n",
        "    return model"
      ],
      "execution_count": null,
      "outputs": []
    },
    {
      "cell_type": "code",
      "metadata": {
        "colab": {
          "base_uri": "https://localhost:8080/"
        },
        "id": "cQlyhgopBaVo",
        "outputId": "0ee3bbec-c63b-4e16-db67-999e8eb2d4ea"
      },
      "source": [
        "model = build_model()"
      ],
      "execution_count": null,
      "outputs": [
        {
          "output_type": "stream",
          "text": [
            "Downloading data from https://storage.googleapis.com/tensorflow/keras-applications/vgg16/vgg16_weights_tf_dim_ordering_tf_kernels_notop.h5\n",
            "58892288/58889256 [==============================] - 0s 0us/step\n"
          ],
          "name": "stdout"
        }
      ]
    },
    {
      "cell_type": "code",
      "metadata": {
        "colab": {
          "base_uri": "https://localhost:8080/"
        },
        "id": "XeKbGZefBdbf",
        "outputId": "05e3fb0a-0d24-4418-a8fe-8c1c61617f62"
      },
      "source": [
        "model.summary()"
      ],
      "execution_count": null,
      "outputs": [
        {
          "output_type": "stream",
          "text": [
            "Model: \"sequential\"\n",
            "_________________________________________________________________\n",
            "Layer (type)                 Output Shape              Param #   \n",
            "=================================================================\n",
            "conv2d (Conv2D)              (None, 32, 32, 3)         84        \n",
            "_________________________________________________________________\n",
            "vgg16 (Functional)           (None, 1, 1, 512)         14714688  \n",
            "_________________________________________________________________\n",
            "global_average_pooling2d (Gl (None, 512)               0         \n",
            "_________________________________________________________________\n",
            "batch_normalization (BatchNo (None, 512)               2048      \n",
            "_________________________________________________________________\n",
            "dropout (Dropout)            (None, 512)               0         \n",
            "_________________________________________________________________\n",
            "dense (Dense)                (None, 512)               262656    \n",
            "_________________________________________________________________\n",
            "batch_normalization_1 (Batch (None, 512)               2048      \n",
            "_________________________________________________________________\n",
            "dropout_1 (Dropout)          (None, 512)               0         \n",
            "_________________________________________________________________\n",
            "dense_1 (Dense)              (None, 1)                 513       \n",
            "=================================================================\n",
            "Total params: 14,982,037\n",
            "Trainable params: 14,979,989\n",
            "Non-trainable params: 2,048\n",
            "_________________________________________________________________\n"
          ],
          "name": "stdout"
        }
      ]
    },
    {
      "cell_type": "code",
      "metadata": {
        "colab": {
          "base_uri": "https://localhost:8080/"
        },
        "id": "nFagRqmxBgrB",
        "outputId": "e00f0cba-ede5-4ba9-d44d-262ed66b5f88"
      },
      "source": [
        "from keras import callbacks\n",
        "filepath = \"./best_model_mri.hdf5\"\n",
        "checkpoint = callbacks.ModelCheckpoint(filepath, monitor= 'val_loss', save_best_only=True, mode ='min', verbose=1)\n",
        "checkpoint"
      ],
      "execution_count": null,
      "outputs": [
        {
          "output_type": "execute_result",
          "data": {
            "text/plain": [
              "<tensorflow.python.keras.callbacks.ModelCheckpoint at 0x7f77b3898390>"
            ]
          },
          "metadata": {
            "tags": []
          },
          "execution_count": 25
        }
      ]
    },
    {
      "cell_type": "markdown",
      "metadata": {
        "id": "rTkPRpzlB5-W"
      },
      "source": [
        "\n",
        "**Tensorboard - Logs**"
      ]
    },
    {
      "cell_type": "code",
      "metadata": {
        "id": "6u_j2cldB2Uy"
      },
      "source": [
        "import datetime\n",
        "import keras\n",
        "logdir = os.path.join(\"./mri_logs\", datetime.datetime.now().strftime(\"%Y%m%d-%H%M%S\"))\n",
        "tensorboard_callback = keras.callbacks.TensorBoard(logdir)"
      ],
      "execution_count": null,
      "outputs": []
    },
    {
      "cell_type": "code",
      "metadata": {
        "colab": {
          "base_uri": "https://localhost:8080/"
        },
        "id": "9KZ1Ja5dBkdO",
        "outputId": "9a1ce64c-309f-4082-9626-7faa454b8a37"
      },
      "source": [
        "history = model.fit(x_train2, y_train2, epochs = 200, batch_size = 32, shuffle=True, \n",
        "                              validation_data= (x_val, y_val), \n",
        "                              callbacks = [checkpoint, tensorboard_callback], verbose = 1) # more epochs as data is small"
      ],
      "execution_count": null,
      "outputs": [
        {
          "output_type": "stream",
          "text": [
            "Epoch 1/200\n",
            "6/6 [==============================] - 22s 3s/step - loss: 0.9568 - accuracy: 0.5552 - val_loss: 27.4506 - val_accuracy: 0.3714\n",
            "\n",
            "Epoch 00001: val_loss improved from inf to 27.45062, saving model to ./best_model_mri.hdf5\n",
            "Epoch 2/200\n",
            "6/6 [==============================] - 21s 4s/step - loss: 0.9152 - accuracy: 0.5517 - val_loss: 28.0255 - val_accuracy: 0.3714\n",
            "\n",
            "Epoch 00002: val_loss did not improve from 27.45062\n",
            "Epoch 3/200\n",
            "6/6 [==============================] - 19s 3s/step - loss: 1.0237 - accuracy: 0.5196 - val_loss: 20.6924 - val_accuracy: 0.3714\n",
            "\n",
            "Epoch 00003: val_loss improved from 27.45062 to 20.69236, saving model to ./best_model_mri.hdf5\n",
            "Epoch 4/200\n",
            "6/6 [==============================] - 20s 3s/step - loss: 0.7206 - accuracy: 0.6850 - val_loss: 85.8820 - val_accuracy: 0.3714\n",
            "\n",
            "Epoch 00004: val_loss did not improve from 20.69236\n",
            "Epoch 5/200\n",
            "6/6 [==============================] - 20s 3s/step - loss: 0.8353 - accuracy: 0.5791 - val_loss: 1.0368 - val_accuracy: 0.6286\n",
            "\n",
            "Epoch 00005: val_loss improved from 20.69236 to 1.03682, saving model to ./best_model_mri.hdf5\n",
            "Epoch 6/200\n",
            "6/6 [==============================] - 20s 3s/step - loss: 0.8829 - accuracy: 0.5676 - val_loss: 748.2258 - val_accuracy: 0.3714\n",
            "\n",
            "Epoch 00006: val_loss did not improve from 1.03682\n",
            "Epoch 7/200\n",
            "6/6 [==============================] - 19s 3s/step - loss: 0.6320 - accuracy: 0.7512 - val_loss: 4.9765 - val_accuracy: 0.6286\n",
            "\n",
            "Epoch 00007: val_loss did not improve from 1.03682\n",
            "Epoch 8/200\n",
            "6/6 [==============================] - 19s 3s/step - loss: 0.6239 - accuracy: 0.7850 - val_loss: 4.4135 - val_accuracy: 0.6286\n",
            "\n",
            "Epoch 00008: val_loss did not improve from 1.03682\n",
            "Epoch 9/200\n",
            "6/6 [==============================] - 19s 3s/step - loss: 0.5035 - accuracy: 0.7574 - val_loss: 3.1331 - val_accuracy: 0.6286\n",
            "\n",
            "Epoch 00009: val_loss did not improve from 1.03682\n",
            "Epoch 10/200\n",
            "6/6 [==============================] - 19s 3s/step - loss: 0.5356 - accuracy: 0.7947 - val_loss: 54.1504 - val_accuracy: 0.3714\n",
            "\n",
            "Epoch 00010: val_loss did not improve from 1.03682\n",
            "Epoch 11/200\n",
            "6/6 [==============================] - 19s 3s/step - loss: 0.5192 - accuracy: 0.7446 - val_loss: 95.4063 - val_accuracy: 0.3714\n",
            "\n",
            "Epoch 00011: val_loss did not improve from 1.03682\n",
            "Epoch 12/200\n",
            "6/6 [==============================] - 20s 3s/step - loss: 0.5628 - accuracy: 0.7754 - val_loss: 4063.4050 - val_accuracy: 0.3714\n",
            "\n",
            "Epoch 00012: val_loss did not improve from 1.03682\n",
            "Epoch 13/200\n",
            "6/6 [==============================] - 19s 3s/step - loss: 0.4898 - accuracy: 0.7751 - val_loss: 26.1832 - val_accuracy: 0.6286\n",
            "\n",
            "Epoch 00013: val_loss did not improve from 1.03682\n",
            "Epoch 14/200\n",
            "6/6 [==============================] - 19s 3s/step - loss: 0.5181 - accuracy: 0.8000 - val_loss: 11.4916 - val_accuracy: 0.6286\n",
            "\n",
            "Epoch 00014: val_loss did not improve from 1.03682\n",
            "Epoch 15/200\n",
            "6/6 [==============================] - 19s 3s/step - loss: 0.4136 - accuracy: 0.8289 - val_loss: 1.0308 - val_accuracy: 0.6857\n",
            "\n",
            "Epoch 00015: val_loss improved from 1.03682 to 1.03082, saving model to ./best_model_mri.hdf5\n",
            "Epoch 16/200\n",
            "6/6 [==============================] - 20s 3s/step - loss: 0.5390 - accuracy: 0.7630 - val_loss: 4.2289 - val_accuracy: 0.6286\n",
            "\n",
            "Epoch 00016: val_loss did not improve from 1.03082\n",
            "Epoch 17/200\n",
            "6/6 [==============================] - 20s 3s/step - loss: 0.4755 - accuracy: 0.8094 - val_loss: 39.1475 - val_accuracy: 0.6286\n",
            "\n",
            "Epoch 00017: val_loss did not improve from 1.03082\n",
            "Epoch 18/200\n",
            "6/6 [==============================] - 19s 3s/step - loss: 0.3347 - accuracy: 0.8759 - val_loss: 3.5087 - val_accuracy: 0.6571\n",
            "\n",
            "Epoch 00018: val_loss did not improve from 1.03082\n",
            "Epoch 19/200\n",
            "6/6 [==============================] - 19s 3s/step - loss: 0.3721 - accuracy: 0.8610 - val_loss: 0.9750 - val_accuracy: 0.6571\n",
            "\n",
            "Epoch 00019: val_loss improved from 1.03082 to 0.97503, saving model to ./best_model_mri.hdf5\n",
            "Epoch 20/200\n",
            "6/6 [==============================] - 20s 3s/step - loss: 0.4048 - accuracy: 0.8526 - val_loss: 78.4473 - val_accuracy: 0.3714\n",
            "\n",
            "Epoch 00020: val_loss did not improve from 0.97503\n",
            "Epoch 21/200\n",
            "6/6 [==============================] - 19s 3s/step - loss: 0.2904 - accuracy: 0.8612 - val_loss: 370.0189 - val_accuracy: 0.6286\n",
            "\n",
            "Epoch 00021: val_loss did not improve from 0.97503\n",
            "Epoch 22/200\n",
            "6/6 [==============================] - 20s 3s/step - loss: 0.3670 - accuracy: 0.8730 - val_loss: 87.3332 - val_accuracy: 0.6286\n",
            "\n",
            "Epoch 00022: val_loss did not improve from 0.97503\n",
            "Epoch 23/200\n",
            "6/6 [==============================] - 19s 3s/step - loss: 0.2559 - accuracy: 0.8887 - val_loss: 2.6827 - val_accuracy: 0.5714\n",
            "\n",
            "Epoch 00023: val_loss did not improve from 0.97503\n",
            "Epoch 24/200\n",
            "6/6 [==============================] - 19s 3s/step - loss: 0.1941 - accuracy: 0.9383 - val_loss: 437.3546 - val_accuracy: 0.3714\n",
            "\n",
            "Epoch 00024: val_loss did not improve from 0.97503\n",
            "Epoch 25/200\n",
            "6/6 [==============================] - 19s 3s/step - loss: 0.1930 - accuracy: 0.9281 - val_loss: 1.7295 - val_accuracy: 0.7714\n",
            "\n",
            "Epoch 00025: val_loss did not improve from 0.97503\n",
            "Epoch 26/200\n",
            "6/6 [==============================] - 19s 3s/step - loss: 0.2803 - accuracy: 0.9039 - val_loss: 1.8267 - val_accuracy: 0.6571\n",
            "\n",
            "Epoch 00026: val_loss did not improve from 0.97503\n",
            "Epoch 27/200\n",
            "6/6 [==============================] - 19s 3s/step - loss: 0.2124 - accuracy: 0.9154 - val_loss: 197.8547 - val_accuracy: 0.6286\n",
            "\n",
            "Epoch 00027: val_loss did not improve from 0.97503\n",
            "Epoch 28/200\n",
            "6/6 [==============================] - 19s 3s/step - loss: 0.1981 - accuracy: 0.9163 - val_loss: 1.3310 - val_accuracy: 0.7429\n",
            "\n",
            "Epoch 00028: val_loss did not improve from 0.97503\n",
            "Epoch 29/200\n",
            "6/6 [==============================] - 19s 3s/step - loss: 0.1271 - accuracy: 0.9610 - val_loss: 21.8883 - val_accuracy: 0.3714\n",
            "\n",
            "Epoch 00029: val_loss did not improve from 0.97503\n",
            "Epoch 30/200\n",
            "6/6 [==============================] - 19s 3s/step - loss: 0.1441 - accuracy: 0.9496 - val_loss: 11.1133 - val_accuracy: 0.3714\n",
            "\n",
            "Epoch 00030: val_loss did not improve from 0.97503\n",
            "Epoch 31/200\n",
            "6/6 [==============================] - 19s 3s/step - loss: 0.3420 - accuracy: 0.8555 - val_loss: 279.4763 - val_accuracy: 0.3714\n",
            "\n",
            "Epoch 00031: val_loss did not improve from 0.97503\n",
            "Epoch 32/200\n",
            "6/6 [==============================] - 19s 3s/step - loss: 0.2829 - accuracy: 0.9035 - val_loss: 31.0853 - val_accuracy: 0.3714\n",
            "\n",
            "Epoch 00032: val_loss did not improve from 0.97503\n",
            "Epoch 33/200\n",
            "6/6 [==============================] - 19s 3s/step - loss: 0.1514 - accuracy: 0.9467 - val_loss: 7.9473 - val_accuracy: 0.3714\n",
            "\n",
            "Epoch 00033: val_loss did not improve from 0.97503\n",
            "Epoch 34/200\n",
            "6/6 [==============================] - 19s 3s/step - loss: 0.1508 - accuracy: 0.9326 - val_loss: 67.8704 - val_accuracy: 0.6286\n",
            "\n",
            "Epoch 00034: val_loss did not improve from 0.97503\n",
            "Epoch 35/200\n",
            "6/6 [==============================] - 19s 3s/step - loss: 0.1372 - accuracy: 0.9501 - val_loss: 12.7371 - val_accuracy: 0.6286\n",
            "\n",
            "Epoch 00035: val_loss did not improve from 0.97503\n",
            "Epoch 36/200\n",
            "6/6 [==============================] - 19s 3s/step - loss: 0.0722 - accuracy: 0.9695 - val_loss: 9.2102 - val_accuracy: 0.6571\n",
            "\n",
            "Epoch 00036: val_loss did not improve from 0.97503\n",
            "Epoch 37/200\n",
            "6/6 [==============================] - 19s 3s/step - loss: 0.1013 - accuracy: 0.9687 - val_loss: 1.8588 - val_accuracy: 0.7429\n",
            "\n",
            "Epoch 00037: val_loss did not improve from 0.97503\n",
            "Epoch 38/200\n",
            "6/6 [==============================] - 19s 3s/step - loss: 0.0658 - accuracy: 0.9748 - val_loss: 3.0480 - val_accuracy: 0.7143\n",
            "\n",
            "Epoch 00038: val_loss did not improve from 0.97503\n",
            "Epoch 39/200\n",
            "6/6 [==============================] - 19s 3s/step - loss: 0.0427 - accuracy: 0.9891 - val_loss: 19.8153 - val_accuracy: 0.6286\n",
            "\n",
            "Epoch 00039: val_loss did not improve from 0.97503\n",
            "Epoch 40/200\n",
            "6/6 [==============================] - 19s 3s/step - loss: 0.0578 - accuracy: 0.9737 - val_loss: 36.8109 - val_accuracy: 0.6286\n",
            "\n",
            "Epoch 00040: val_loss did not improve from 0.97503\n",
            "Epoch 41/200\n",
            "6/6 [==============================] - 20s 3s/step - loss: 0.0265 - accuracy: 0.9935 - val_loss: 25.8622 - val_accuracy: 0.6286\n",
            "\n",
            "Epoch 00041: val_loss did not improve from 0.97503\n",
            "Epoch 42/200\n",
            "6/6 [==============================] - 20s 3s/step - loss: 0.0844 - accuracy: 0.9696 - val_loss: 18.6735 - val_accuracy: 0.6286\n",
            "\n",
            "Epoch 00042: val_loss did not improve from 0.97503\n",
            "Epoch 43/200\n",
            "6/6 [==============================] - 20s 3s/step - loss: 0.0513 - accuracy: 0.9783 - val_loss: 13.8983 - val_accuracy: 0.6286\n",
            "\n",
            "Epoch 00043: val_loss did not improve from 0.97503\n",
            "Epoch 44/200\n",
            "6/6 [==============================] - 19s 3s/step - loss: 0.0494 - accuracy: 0.9856 - val_loss: 9.2580 - val_accuracy: 0.6286\n",
            "\n",
            "Epoch 00044: val_loss did not improve from 0.97503\n",
            "Epoch 45/200\n",
            "6/6 [==============================] - 19s 3s/step - loss: 0.0637 - accuracy: 0.9775 - val_loss: 8.6280 - val_accuracy: 0.6571\n",
            "\n",
            "Epoch 00045: val_loss did not improve from 0.97503\n",
            "Epoch 46/200\n",
            "6/6 [==============================] - 19s 3s/step - loss: 0.0691 - accuracy: 0.9813 - val_loss: 1.3255 - val_accuracy: 0.8000\n",
            "\n",
            "Epoch 00046: val_loss did not improve from 0.97503\n",
            "Epoch 47/200\n",
            "6/6 [==============================] - 19s 3s/step - loss: 0.0200 - accuracy: 1.0000 - val_loss: 0.7411 - val_accuracy: 0.8000\n",
            "\n",
            "Epoch 00047: val_loss improved from 0.97503 to 0.74110, saving model to ./best_model_mri.hdf5\n",
            "Epoch 48/200\n",
            "6/6 [==============================] - 19s 3s/step - loss: 0.0112 - accuracy: 1.0000 - val_loss: 1.8777 - val_accuracy: 0.6857\n",
            "\n",
            "Epoch 00048: val_loss did not improve from 0.74110\n",
            "Epoch 49/200\n",
            "6/6 [==============================] - 19s 3s/step - loss: 0.0245 - accuracy: 0.9868 - val_loss: 0.7558 - val_accuracy: 0.8000\n",
            "\n",
            "Epoch 00049: val_loss did not improve from 0.74110\n",
            "Epoch 50/200\n",
            "6/6 [==============================] - 20s 3s/step - loss: 0.0723 - accuracy: 0.9580 - val_loss: 1.0376 - val_accuracy: 0.7714\n",
            "\n",
            "Epoch 00050: val_loss did not improve from 0.74110\n",
            "Epoch 51/200\n",
            "6/6 [==============================] - 20s 3s/step - loss: 0.0257 - accuracy: 0.9976 - val_loss: 16.7583 - val_accuracy: 0.3714\n",
            "\n",
            "Epoch 00051: val_loss did not improve from 0.74110\n",
            "Epoch 52/200\n",
            "6/6 [==============================] - 19s 3s/step - loss: 0.0140 - accuracy: 0.9935 - val_loss: 4.6945 - val_accuracy: 0.5714\n",
            "\n",
            "Epoch 00052: val_loss did not improve from 0.74110\n",
            "Epoch 53/200\n",
            "6/6 [==============================] - 19s 3s/step - loss: 0.0141 - accuracy: 1.0000 - val_loss: 4.7298 - val_accuracy: 0.6571\n",
            "\n",
            "Epoch 00053: val_loss did not improve from 0.74110\n",
            "Epoch 54/200\n",
            "6/6 [==============================] - 19s 3s/step - loss: 0.0145 - accuracy: 0.9965 - val_loss: 4.5504 - val_accuracy: 0.6571\n",
            "\n",
            "Epoch 00054: val_loss did not improve from 0.74110\n",
            "Epoch 55/200\n",
            "6/6 [==============================] - 20s 3s/step - loss: 0.0138 - accuracy: 0.9965 - val_loss: 0.7494 - val_accuracy: 0.8571\n",
            "\n",
            "Epoch 00055: val_loss did not improve from 0.74110\n",
            "Epoch 56/200\n",
            "6/6 [==============================] - 20s 3s/step - loss: 0.0072 - accuracy: 1.0000 - val_loss: 2.9092 - val_accuracy: 0.6571\n",
            "\n",
            "Epoch 00056: val_loss did not improve from 0.74110\n",
            "Epoch 57/200\n",
            "6/6 [==============================] - 19s 3s/step - loss: 0.0239 - accuracy: 0.9928 - val_loss: 6.2875 - val_accuracy: 0.4571\n",
            "\n",
            "Epoch 00057: val_loss did not improve from 0.74110\n",
            "Epoch 58/200\n",
            "6/6 [==============================] - 19s 3s/step - loss: 0.0095 - accuracy: 0.9985 - val_loss: 7.4651 - val_accuracy: 0.4286\n",
            "\n",
            "Epoch 00058: val_loss did not improve from 0.74110\n",
            "Epoch 59/200\n",
            "6/6 [==============================] - 19s 3s/step - loss: 0.0046 - accuracy: 1.0000 - val_loss: 1.7521 - val_accuracy: 0.7429\n",
            "\n",
            "Epoch 00059: val_loss did not improve from 0.74110\n",
            "Epoch 60/200\n",
            "6/6 [==============================] - 20s 3s/step - loss: 0.0049 - accuracy: 1.0000 - val_loss: 1.4747 - val_accuracy: 0.7429\n",
            "\n",
            "Epoch 00060: val_loss did not improve from 0.74110\n",
            "Epoch 61/200\n",
            "6/6 [==============================] - 19s 3s/step - loss: 0.1104 - accuracy: 0.9751 - val_loss: 1.7445 - val_accuracy: 0.7429\n",
            "\n",
            "Epoch 00061: val_loss did not improve from 0.74110\n",
            "Epoch 62/200\n",
            "6/6 [==============================] - 19s 3s/step - loss: 0.0120 - accuracy: 1.0000 - val_loss: 1.3818 - val_accuracy: 0.6857\n",
            "\n",
            "Epoch 00062: val_loss did not improve from 0.74110\n",
            "Epoch 63/200\n",
            "6/6 [==============================] - 19s 3s/step - loss: 0.0024 - accuracy: 1.0000 - val_loss: 2.4399 - val_accuracy: 0.7143\n",
            "\n",
            "Epoch 00063: val_loss did not improve from 0.74110\n",
            "Epoch 64/200\n",
            "6/6 [==============================] - 20s 3s/step - loss: 0.0096 - accuracy: 1.0000 - val_loss: 6.8572 - val_accuracy: 0.4857\n",
            "\n",
            "Epoch 00064: val_loss did not improve from 0.74110\n",
            "Epoch 65/200\n",
            "6/6 [==============================] - 19s 3s/step - loss: 0.0023 - accuracy: 1.0000 - val_loss: 6.4504 - val_accuracy: 0.5429\n",
            "\n",
            "Epoch 00065: val_loss did not improve from 0.74110\n",
            "Epoch 66/200\n",
            "6/6 [==============================] - 19s 3s/step - loss: 0.0093 - accuracy: 1.0000 - val_loss: 1.0640 - val_accuracy: 0.8286\n",
            "\n",
            "Epoch 00066: val_loss did not improve from 0.74110\n",
            "Epoch 67/200\n",
            "6/6 [==============================] - 19s 3s/step - loss: 0.0019 - accuracy: 1.0000 - val_loss: 5.3580 - val_accuracy: 0.6571\n",
            "\n",
            "Epoch 00067: val_loss did not improve from 0.74110\n",
            "Epoch 68/200\n",
            "6/6 [==============================] - 20s 3s/step - loss: 0.0298 - accuracy: 0.9883 - val_loss: 1.9938 - val_accuracy: 0.7714\n",
            "\n",
            "Epoch 00068: val_loss did not improve from 0.74110\n",
            "Epoch 69/200\n",
            "6/6 [==============================] - 19s 3s/step - loss: 0.0114 - accuracy: 1.0000 - val_loss: 1.5556 - val_accuracy: 0.7143\n",
            "\n",
            "Epoch 00069: val_loss did not improve from 0.74110\n",
            "Epoch 70/200\n",
            "6/6 [==============================] - 19s 3s/step - loss: 0.0024 - accuracy: 1.0000 - val_loss: 6.4479 - val_accuracy: 0.4571\n",
            "\n",
            "Epoch 00070: val_loss did not improve from 0.74110\n",
            "Epoch 71/200\n",
            "6/6 [==============================] - 19s 3s/step - loss: 0.0026 - accuracy: 1.0000 - val_loss: 3.9702 - val_accuracy: 0.6000\n",
            "\n",
            "Epoch 00071: val_loss did not improve from 0.74110\n",
            "Epoch 72/200\n",
            "6/6 [==============================] - 19s 3s/step - loss: 0.0064 - accuracy: 1.0000 - val_loss: 2.1531 - val_accuracy: 0.7714\n",
            "\n",
            "Epoch 00072: val_loss did not improve from 0.74110\n",
            "Epoch 73/200\n",
            "6/6 [==============================] - 19s 3s/step - loss: 0.0029 - accuracy: 1.0000 - val_loss: 1.3530 - val_accuracy: 0.8286\n",
            "\n",
            "Epoch 00073: val_loss did not improve from 0.74110\n",
            "Epoch 74/200\n",
            "6/6 [==============================] - 19s 3s/step - loss: 0.0030 - accuracy: 1.0000 - val_loss: 2.3838 - val_accuracy: 0.7429\n",
            "\n",
            "Epoch 00074: val_loss did not improve from 0.74110\n",
            "Epoch 75/200\n",
            "6/6 [==============================] - 19s 3s/step - loss: 0.0108 - accuracy: 0.9965 - val_loss: 2.3347 - val_accuracy: 0.7429\n",
            "\n",
            "Epoch 00075: val_loss did not improve from 0.74110\n",
            "Epoch 76/200\n",
            "6/6 [==============================] - 19s 3s/step - loss: 0.0038 - accuracy: 1.0000 - val_loss: 1.0541 - val_accuracy: 0.8571\n",
            "\n",
            "Epoch 00076: val_loss did not improve from 0.74110\n",
            "Epoch 77/200\n",
            "6/6 [==============================] - 19s 3s/step - loss: 0.0178 - accuracy: 0.9950 - val_loss: 4.5447 - val_accuracy: 0.6571\n",
            "\n",
            "Epoch 00077: val_loss did not improve from 0.74110\n",
            "Epoch 78/200\n",
            "6/6 [==============================] - 19s 3s/step - loss: 0.0213 - accuracy: 0.9930 - val_loss: 1.2707 - val_accuracy: 0.7714\n",
            "\n",
            "Epoch 00078: val_loss did not improve from 0.74110\n",
            "Epoch 79/200\n",
            "6/6 [==============================] - 19s 3s/step - loss: 0.0143 - accuracy: 0.9985 - val_loss: 5.3558 - val_accuracy: 0.5714\n",
            "\n",
            "Epoch 00079: val_loss did not improve from 0.74110\n",
            "Epoch 80/200\n",
            "6/6 [==============================] - 19s 3s/step - loss: 0.0639 - accuracy: 0.9577 - val_loss: 0.8011 - val_accuracy: 0.8286\n",
            "\n",
            "Epoch 00080: val_loss did not improve from 0.74110\n",
            "Epoch 81/200\n",
            "6/6 [==============================] - 19s 3s/step - loss: 0.0284 - accuracy: 0.9853 - val_loss: 3.4636 - val_accuracy: 0.7429\n",
            "\n",
            "Epoch 00081: val_loss did not improve from 0.74110\n",
            "Epoch 82/200\n",
            "6/6 [==============================] - 19s 3s/step - loss: 0.0568 - accuracy: 0.9906 - val_loss: 5.9562 - val_accuracy: 0.6571\n",
            "\n",
            "Epoch 00082: val_loss did not improve from 0.74110\n",
            "Epoch 83/200\n",
            "6/6 [==============================] - 19s 3s/step - loss: 0.0326 - accuracy: 0.9850 - val_loss: 7.3092 - val_accuracy: 0.6571\n",
            "\n",
            "Epoch 00083: val_loss did not improve from 0.74110\n",
            "Epoch 84/200\n",
            "6/6 [==============================] - 19s 3s/step - loss: 0.0351 - accuracy: 0.9798 - val_loss: 2.2319 - val_accuracy: 0.7429\n",
            "\n",
            "Epoch 00084: val_loss did not improve from 0.74110\n",
            "Epoch 85/200\n",
            "6/6 [==============================] - 19s 3s/step - loss: 0.0382 - accuracy: 0.9679 - val_loss: 2.2080 - val_accuracy: 0.7429\n",
            "\n",
            "Epoch 00085: val_loss did not improve from 0.74110\n",
            "Epoch 86/200\n",
            "6/6 [==============================] - 19s 3s/step - loss: 0.0275 - accuracy: 0.9941 - val_loss: 6.1928 - val_accuracy: 0.6571\n",
            "\n",
            "Epoch 00086: val_loss did not improve from 0.74110\n",
            "Epoch 87/200\n",
            "6/6 [==============================] - 19s 3s/step - loss: 0.0783 - accuracy: 0.9562 - val_loss: 1.1965 - val_accuracy: 0.8000\n",
            "\n",
            "Epoch 00087: val_loss did not improve from 0.74110\n",
            "Epoch 88/200\n",
            "6/6 [==============================] - 19s 3s/step - loss: 0.0115 - accuracy: 0.9915 - val_loss: 5.0179 - val_accuracy: 0.5429\n",
            "\n",
            "Epoch 00088: val_loss did not improve from 0.74110\n",
            "Epoch 89/200\n",
            "6/6 [==============================] - 19s 3s/step - loss: 0.0167 - accuracy: 0.9985 - val_loss: 5.6705 - val_accuracy: 0.5143\n",
            "\n",
            "Epoch 00089: val_loss did not improve from 0.74110\n",
            "Epoch 90/200\n",
            "6/6 [==============================] - 19s 3s/step - loss: 0.0626 - accuracy: 0.9702 - val_loss: 5.0241 - val_accuracy: 0.4857\n",
            "\n",
            "Epoch 00090: val_loss did not improve from 0.74110\n",
            "Epoch 91/200\n",
            "6/6 [==============================] - 19s 3s/step - loss: 0.0142 - accuracy: 0.9928 - val_loss: 2.9810 - val_accuracy: 0.8000\n",
            "\n",
            "Epoch 00091: val_loss did not improve from 0.74110\n",
            "Epoch 92/200\n",
            "6/6 [==============================] - 19s 3s/step - loss: 0.0209 - accuracy: 0.9913 - val_loss: 1.8799 - val_accuracy: 0.8000\n",
            "\n",
            "Epoch 00092: val_loss did not improve from 0.74110\n",
            "Epoch 93/200\n",
            "6/6 [==============================] - 19s 3s/step - loss: 0.0100 - accuracy: 0.9976 - val_loss: 4.4157 - val_accuracy: 0.6571\n",
            "\n",
            "Epoch 00093: val_loss did not improve from 0.74110\n",
            "Epoch 94/200\n",
            "6/6 [==============================] - 19s 3s/step - loss: 0.0035 - accuracy: 1.0000 - val_loss: 4.1367 - val_accuracy: 0.6571\n",
            "\n",
            "Epoch 00094: val_loss did not improve from 0.74110\n",
            "Epoch 95/200\n",
            "6/6 [==============================] - 19s 3s/step - loss: 0.0415 - accuracy: 0.9883 - val_loss: 7.5167 - val_accuracy: 0.5143\n",
            "\n",
            "Epoch 00095: val_loss did not improve from 0.74110\n",
            "Epoch 96/200\n",
            "6/6 [==============================] - 19s 3s/step - loss: 0.0449 - accuracy: 0.9883 - val_loss: 1.8784 - val_accuracy: 0.8286\n",
            "\n",
            "Epoch 00096: val_loss did not improve from 0.74110\n",
            "Epoch 97/200\n",
            "6/6 [==============================] - 19s 3s/step - loss: 0.0177 - accuracy: 0.9880 - val_loss: 3.0094 - val_accuracy: 0.7429\n",
            "\n",
            "Epoch 00097: val_loss did not improve from 0.74110\n",
            "Epoch 98/200\n",
            "6/6 [==============================] - 19s 3s/step - loss: 0.0018 - accuracy: 1.0000 - val_loss: 4.0203 - val_accuracy: 0.6571\n",
            "\n",
            "Epoch 00098: val_loss did not improve from 0.74110\n",
            "Epoch 99/200\n",
            "6/6 [==============================] - 19s 3s/step - loss: 0.0020 - accuracy: 1.0000 - val_loss: 4.2100 - val_accuracy: 0.6571\n",
            "\n",
            "Epoch 00099: val_loss did not improve from 0.74110\n",
            "Epoch 100/200\n",
            "6/6 [==============================] - 19s 3s/step - loss: 0.0077 - accuracy: 0.9950 - val_loss: 3.7565 - val_accuracy: 0.6571\n",
            "\n",
            "Epoch 00100: val_loss did not improve from 0.74110\n",
            "Epoch 101/200\n",
            "6/6 [==============================] - 19s 3s/step - loss: 0.0020 - accuracy: 1.0000 - val_loss: 3.3263 - val_accuracy: 0.6571\n",
            "\n",
            "Epoch 00101: val_loss did not improve from 0.74110\n",
            "Epoch 102/200\n",
            "6/6 [==============================] - 19s 3s/step - loss: 0.0030 - accuracy: 1.0000 - val_loss: 3.6803 - val_accuracy: 0.6571\n",
            "\n",
            "Epoch 00102: val_loss did not improve from 0.74110\n",
            "Epoch 103/200\n",
            "6/6 [==============================] - 19s 3s/step - loss: 0.0021 - accuracy: 1.0000 - val_loss: 3.2262 - val_accuracy: 0.6571\n",
            "\n",
            "Epoch 00103: val_loss did not improve from 0.74110\n",
            "Epoch 104/200\n",
            "6/6 [==============================] - 19s 3s/step - loss: 0.0137 - accuracy: 0.9883 - val_loss: 2.4789 - val_accuracy: 0.7429\n",
            "\n",
            "Epoch 00104: val_loss did not improve from 0.74110\n",
            "Epoch 105/200\n",
            "6/6 [==============================] - 19s 3s/step - loss: 5.6071e-04 - accuracy: 1.0000 - val_loss: 2.1820 - val_accuracy: 0.7714\n",
            "\n",
            "Epoch 00105: val_loss did not improve from 0.74110\n",
            "Epoch 106/200\n",
            "6/6 [==============================] - 19s 3s/step - loss: 0.0017 - accuracy: 1.0000 - val_loss: 2.2598 - val_accuracy: 0.7714\n",
            "\n",
            "Epoch 00106: val_loss did not improve from 0.74110\n",
            "Epoch 107/200\n",
            "6/6 [==============================] - 19s 3s/step - loss: 0.0042 - accuracy: 1.0000 - val_loss: 3.4759 - val_accuracy: 0.6571\n",
            "\n",
            "Epoch 00107: val_loss did not improve from 0.74110\n",
            "Epoch 108/200\n",
            "6/6 [==============================] - 19s 3s/step - loss: 0.0016 - accuracy: 1.0000 - val_loss: 5.0633 - val_accuracy: 0.6286\n",
            "\n",
            "Epoch 00108: val_loss did not improve from 0.74110\n",
            "Epoch 109/200\n",
            "6/6 [==============================] - 19s 3s/step - loss: 0.0012 - accuracy: 1.0000 - val_loss: 4.8647 - val_accuracy: 0.6286\n",
            "\n",
            "Epoch 00109: val_loss did not improve from 0.74110\n",
            "Epoch 110/200\n",
            "6/6 [==============================] - 19s 3s/step - loss: 0.0050 - accuracy: 1.0000 - val_loss: 3.1715 - val_accuracy: 0.6857\n",
            "\n",
            "Epoch 00110: val_loss did not improve from 0.74110\n",
            "Epoch 111/200\n",
            "6/6 [==============================] - 19s 3s/step - loss: 0.0037 - accuracy: 1.0000 - val_loss: 1.7567 - val_accuracy: 0.8286\n",
            "\n",
            "Epoch 00111: val_loss did not improve from 0.74110\n",
            "Epoch 112/200\n",
            "6/6 [==============================] - 19s 3s/step - loss: 0.0581 - accuracy: 0.9952 - val_loss: 11.3497 - val_accuracy: 0.3714\n",
            "\n",
            "Epoch 00112: val_loss did not improve from 0.74110\n",
            "Epoch 113/200\n",
            "6/6 [==============================] - 19s 3s/step - loss: 0.0038 - accuracy: 1.0000 - val_loss: 16.4223 - val_accuracy: 0.3714\n",
            "\n",
            "Epoch 00113: val_loss did not improve from 0.74110\n",
            "Epoch 114/200\n",
            "6/6 [==============================] - 19s 3s/step - loss: 0.0181 - accuracy: 0.9970 - val_loss: 10.2821 - val_accuracy: 0.3714\n",
            "\n",
            "Epoch 00114: val_loss did not improve from 0.74110\n",
            "Epoch 115/200\n",
            "6/6 [==============================] - 20s 3s/step - loss: 0.0486 - accuracy: 0.9769 - val_loss: 6.5851 - val_accuracy: 0.5429\n",
            "\n",
            "Epoch 00115: val_loss did not improve from 0.74110\n",
            "Epoch 116/200\n",
            "6/6 [==============================] - 19s 3s/step - loss: 0.1608 - accuracy: 0.9594 - val_loss: 11.9855 - val_accuracy: 0.3714\n",
            "\n",
            "Epoch 00116: val_loss did not improve from 0.74110\n",
            "Epoch 117/200\n",
            "6/6 [==============================] - 19s 3s/step - loss: 0.0398 - accuracy: 0.9862 - val_loss: 3.3574 - val_accuracy: 0.6286\n",
            "\n",
            "Epoch 00117: val_loss did not improve from 0.74110\n",
            "Epoch 118/200\n",
            "6/6 [==============================] - 19s 3s/step - loss: 0.0312 - accuracy: 0.9844 - val_loss: 3.5369 - val_accuracy: 0.6571\n",
            "\n",
            "Epoch 00118: val_loss did not improve from 0.74110\n",
            "Epoch 119/200\n",
            "6/6 [==============================] - 19s 3s/step - loss: 0.0753 - accuracy: 0.9830 - val_loss: 13.4866 - val_accuracy: 0.6286\n",
            "\n",
            "Epoch 00119: val_loss did not improve from 0.74110\n",
            "Epoch 120/200\n",
            "6/6 [==============================] - 19s 3s/step - loss: 0.1285 - accuracy: 0.9673 - val_loss: 5.9030 - val_accuracy: 0.6571\n",
            "\n",
            "Epoch 00120: val_loss did not improve from 0.74110\n",
            "Epoch 121/200\n",
            "6/6 [==============================] - 19s 3s/step - loss: 0.0041 - accuracy: 1.0000 - val_loss: 2.2604 - val_accuracy: 0.6857\n",
            "\n",
            "Epoch 00121: val_loss did not improve from 0.74110\n",
            "Epoch 122/200\n",
            "6/6 [==============================] - 19s 3s/step - loss: 0.0251 - accuracy: 0.9926 - val_loss: 1.1214 - val_accuracy: 0.8000\n",
            "\n",
            "Epoch 00122: val_loss did not improve from 0.74110\n",
            "Epoch 123/200\n",
            "6/6 [==============================] - 20s 3s/step - loss: 0.0195 - accuracy: 0.9883 - val_loss: 4.9495 - val_accuracy: 0.6571\n",
            "\n",
            "Epoch 00123: val_loss did not improve from 0.74110\n",
            "Epoch 124/200\n",
            "6/6 [==============================] - 23s 4s/step - loss: 0.0088 - accuracy: 1.0000 - val_loss: 4.1925 - val_accuracy: 0.6571\n",
            "\n",
            "Epoch 00124: val_loss did not improve from 0.74110\n",
            "Epoch 125/200\n",
            "6/6 [==============================] - 19s 3s/step - loss: 0.0071 - accuracy: 0.9950 - val_loss: 1.8907 - val_accuracy: 0.7714\n",
            "\n",
            "Epoch 00125: val_loss did not improve from 0.74110\n",
            "Epoch 126/200\n",
            "6/6 [==============================] - 19s 3s/step - loss: 0.0088 - accuracy: 1.0000 - val_loss: 1.1447 - val_accuracy: 0.8000\n",
            "\n",
            "Epoch 00126: val_loss did not improve from 0.74110\n",
            "Epoch 127/200\n",
            "6/6 [==============================] - 19s 3s/step - loss: 0.0077 - accuracy: 1.0000 - val_loss: 0.9864 - val_accuracy: 0.8000\n",
            "\n",
            "Epoch 00127: val_loss did not improve from 0.74110\n",
            "Epoch 128/200\n",
            "6/6 [==============================] - 19s 3s/step - loss: 0.0028 - accuracy: 1.0000 - val_loss: 0.9726 - val_accuracy: 0.8000\n",
            "\n",
            "Epoch 00128: val_loss did not improve from 0.74110\n",
            "Epoch 129/200\n",
            "6/6 [==============================] - 19s 3s/step - loss: 0.0542 - accuracy: 0.9883 - val_loss: 1.9802 - val_accuracy: 0.7429\n",
            "\n",
            "Epoch 00129: val_loss did not improve from 0.74110\n",
            "Epoch 130/200\n",
            "6/6 [==============================] - 19s 3s/step - loss: 0.0299 - accuracy: 0.9878 - val_loss: 9.4076 - val_accuracy: 0.3714\n",
            "\n",
            "Epoch 00130: val_loss did not improve from 0.74110\n",
            "Epoch 131/200\n",
            "6/6 [==============================] - 19s 3s/step - loss: 0.0292 - accuracy: 0.9938 - val_loss: 1.6949 - val_accuracy: 0.7714\n",
            "\n",
            "Epoch 00131: val_loss did not improve from 0.74110\n",
            "Epoch 132/200\n",
            "6/6 [==============================] - 19s 3s/step - loss: 0.0314 - accuracy: 0.9865 - val_loss: 11.2729 - val_accuracy: 0.6286\n",
            "\n",
            "Epoch 00132: val_loss did not improve from 0.74110\n",
            "Epoch 133/200\n",
            "6/6 [==============================] - 19s 3s/step - loss: 0.0724 - accuracy: 0.9617 - val_loss: 1.7548 - val_accuracy: 0.7429\n",
            "\n",
            "Epoch 00133: val_loss did not improve from 0.74110\n",
            "Epoch 134/200\n",
            "6/6 [==============================] - 19s 3s/step - loss: 0.0275 - accuracy: 0.9808 - val_loss: 6.7945 - val_accuracy: 0.5429\n",
            "\n",
            "Epoch 00134: val_loss did not improve from 0.74110\n",
            "Epoch 135/200\n",
            "6/6 [==============================] - 19s 3s/step - loss: 0.0160 - accuracy: 0.9941 - val_loss: 2.2659 - val_accuracy: 0.7143\n",
            "\n",
            "Epoch 00135: val_loss did not improve from 0.74110\n",
            "Epoch 136/200\n",
            "6/6 [==============================] - 19s 3s/step - loss: 0.0026 - accuracy: 1.0000 - val_loss: 3.2373 - val_accuracy: 0.7429\n",
            "\n",
            "Epoch 00136: val_loss did not improve from 0.74110\n",
            "Epoch 137/200\n",
            "6/6 [==============================] - 19s 3s/step - loss: 0.0086 - accuracy: 0.9976 - val_loss: 1.6971 - val_accuracy: 0.7429\n",
            "\n",
            "Epoch 00137: val_loss did not improve from 0.74110\n",
            "Epoch 138/200\n",
            "6/6 [==============================] - 20s 3s/step - loss: 0.0047 - accuracy: 1.0000 - val_loss: 2.5065 - val_accuracy: 0.6857\n",
            "\n",
            "Epoch 00138: val_loss did not improve from 0.74110\n",
            "Epoch 139/200\n",
            "6/6 [==============================] - 19s 3s/step - loss: 0.0088 - accuracy: 1.0000 - val_loss: 1.7065 - val_accuracy: 0.7714\n",
            "\n",
            "Epoch 00139: val_loss did not improve from 0.74110\n",
            "Epoch 140/200\n",
            "6/6 [==============================] - 20s 3s/step - loss: 0.0037 - accuracy: 1.0000 - val_loss: 3.0110 - val_accuracy: 0.7429\n",
            "\n",
            "Epoch 00140: val_loss did not improve from 0.74110\n",
            "Epoch 141/200\n",
            "6/6 [==============================] - 19s 3s/step - loss: 8.2323e-04 - accuracy: 1.0000 - val_loss: 2.5911 - val_accuracy: 0.7429\n",
            "\n",
            "Epoch 00141: val_loss did not improve from 0.74110\n",
            "Epoch 142/200\n",
            "6/6 [==============================] - 19s 3s/step - loss: 0.0048 - accuracy: 0.9965 - val_loss: 0.9995 - val_accuracy: 0.8286\n",
            "\n",
            "Epoch 00142: val_loss did not improve from 0.74110\n",
            "Epoch 143/200\n",
            "6/6 [==============================] - 19s 3s/step - loss: 0.0018 - accuracy: 1.0000 - val_loss: 1.6924 - val_accuracy: 0.7429\n",
            "\n",
            "Epoch 00143: val_loss did not improve from 0.74110\n",
            "Epoch 144/200\n",
            "6/6 [==============================] - 19s 3s/step - loss: 0.0266 - accuracy: 0.9766 - val_loss: 5.5611 - val_accuracy: 0.6571\n",
            "\n",
            "Epoch 00144: val_loss did not improve from 0.74110\n",
            "Epoch 145/200\n",
            "6/6 [==============================] - 19s 3s/step - loss: 0.0014 - accuracy: 1.0000 - val_loss: 6.0307 - val_accuracy: 0.6286\n",
            "\n",
            "Epoch 00145: val_loss did not improve from 0.74110\n",
            "Epoch 146/200\n",
            "6/6 [==============================] - 19s 3s/step - loss: 0.0049 - accuracy: 1.0000 - val_loss: 2.4873 - val_accuracy: 0.7429\n",
            "\n",
            "Epoch 00146: val_loss did not improve from 0.74110\n",
            "Epoch 147/200\n",
            "6/6 [==============================] - 19s 3s/step - loss: 0.0116 - accuracy: 0.9928 - val_loss: 0.9725 - val_accuracy: 0.8000\n",
            "\n",
            "Epoch 00147: val_loss did not improve from 0.74110\n",
            "Epoch 148/200\n",
            "6/6 [==============================] - 19s 3s/step - loss: 5.4193e-04 - accuracy: 1.0000 - val_loss: 1.8047 - val_accuracy: 0.7714\n",
            "\n",
            "Epoch 00148: val_loss did not improve from 0.74110\n",
            "Epoch 149/200\n",
            "6/6 [==============================] - 19s 3s/step - loss: 2.2771e-04 - accuracy: 1.0000 - val_loss: 2.4347 - val_accuracy: 0.7429\n",
            "\n",
            "Epoch 00149: val_loss did not improve from 0.74110\n",
            "Epoch 150/200\n",
            "6/6 [==============================] - 19s 3s/step - loss: 0.0044 - accuracy: 1.0000 - val_loss: 0.8403 - val_accuracy: 0.8571\n",
            "\n",
            "Epoch 00150: val_loss did not improve from 0.74110\n",
            "Epoch 151/200\n",
            "6/6 [==============================] - 19s 3s/step - loss: 0.0021 - accuracy: 1.0000 - val_loss: 2.5177 - val_accuracy: 0.7143\n",
            "\n",
            "Epoch 00151: val_loss did not improve from 0.74110\n",
            "Epoch 152/200\n",
            "6/6 [==============================] - 19s 3s/step - loss: 0.0034 - accuracy: 1.0000 - val_loss: 2.6966 - val_accuracy: 0.7143\n",
            "\n",
            "Epoch 00152: val_loss did not improve from 0.74110\n",
            "Epoch 153/200\n",
            "6/6 [==============================] - 19s 3s/step - loss: 0.0030 - accuracy: 1.0000 - val_loss: 2.2390 - val_accuracy: 0.7429\n",
            "\n",
            "Epoch 00153: val_loss did not improve from 0.74110\n",
            "Epoch 154/200\n",
            "6/6 [==============================] - 19s 3s/step - loss: 6.1007e-04 - accuracy: 1.0000 - val_loss: 1.7165 - val_accuracy: 0.8000\n",
            "\n",
            "Epoch 00154: val_loss did not improve from 0.74110\n",
            "Epoch 155/200\n",
            "6/6 [==============================] - 19s 3s/step - loss: 0.0017 - accuracy: 1.0000 - val_loss: 1.4208 - val_accuracy: 0.8286\n",
            "\n",
            "Epoch 00155: val_loss did not improve from 0.74110\n",
            "Epoch 156/200\n",
            "6/6 [==============================] - 19s 3s/step - loss: 0.0026 - accuracy: 1.0000 - val_loss: 1.1573 - val_accuracy: 0.8571\n",
            "\n",
            "Epoch 00156: val_loss did not improve from 0.74110\n",
            "Epoch 157/200\n",
            "6/6 [==============================] - 19s 3s/step - loss: 9.5146e-05 - accuracy: 1.0000 - val_loss: 1.0349 - val_accuracy: 0.8286\n",
            "\n",
            "Epoch 00157: val_loss did not improve from 0.74110\n",
            "Epoch 158/200\n",
            "6/6 [==============================] - 19s 3s/step - loss: 6.4433e-04 - accuracy: 1.0000 - val_loss: 1.0388 - val_accuracy: 0.8286\n",
            "\n",
            "Epoch 00158: val_loss did not improve from 0.74110\n",
            "Epoch 159/200\n",
            "6/6 [==============================] - 19s 3s/step - loss: 4.9975e-04 - accuracy: 1.0000 - val_loss: 1.0017 - val_accuracy: 0.8286\n",
            "\n",
            "Epoch 00159: val_loss did not improve from 0.74110\n",
            "Epoch 160/200\n",
            "6/6 [==============================] - 19s 3s/step - loss: 0.0052 - accuracy: 1.0000 - val_loss: 0.8925 - val_accuracy: 0.8571\n",
            "\n",
            "Epoch 00160: val_loss did not improve from 0.74110\n",
            "Epoch 161/200\n",
            "6/6 [==============================] - 19s 3s/step - loss: 2.3811e-04 - accuracy: 1.0000 - val_loss: 0.8839 - val_accuracy: 0.8571\n",
            "\n",
            "Epoch 00161: val_loss did not improve from 0.74110\n",
            "Epoch 162/200\n",
            "6/6 [==============================] - 19s 3s/step - loss: 4.6459e-04 - accuracy: 1.0000 - val_loss: 0.9604 - val_accuracy: 0.8000\n",
            "\n",
            "Epoch 00162: val_loss did not improve from 0.74110\n",
            "Epoch 163/200\n",
            "6/6 [==============================] - 19s 3s/step - loss: 5.8138e-04 - accuracy: 1.0000 - val_loss: 1.1112 - val_accuracy: 0.7714\n",
            "\n",
            "Epoch 00163: val_loss did not improve from 0.74110\n",
            "Epoch 164/200\n",
            "6/6 [==============================] - 19s 3s/step - loss: 0.0015 - accuracy: 1.0000 - val_loss: 1.5238 - val_accuracy: 0.7714\n",
            "\n",
            "Epoch 00164: val_loss did not improve from 0.74110\n",
            "Epoch 165/200\n",
            "6/6 [==============================] - 19s 3s/step - loss: 1.1824e-04 - accuracy: 1.0000 - val_loss: 3.0225 - val_accuracy: 0.6571\n",
            "\n",
            "Epoch 00165: val_loss did not improve from 0.74110\n",
            "Epoch 166/200\n",
            "6/6 [==============================] - 19s 3s/step - loss: 0.0028 - accuracy: 1.0000 - val_loss: 4.4539 - val_accuracy: 0.5714\n",
            "\n",
            "Epoch 00166: val_loss did not improve from 0.74110\n",
            "Epoch 167/200\n",
            "6/6 [==============================] - 19s 3s/step - loss: 0.0022 - accuracy: 1.0000 - val_loss: 4.7290 - val_accuracy: 0.5714\n",
            "\n",
            "Epoch 00167: val_loss did not improve from 0.74110\n",
            "Epoch 168/200\n",
            "6/6 [==============================] - 19s 3s/step - loss: 7.0840e-04 - accuracy: 1.0000 - val_loss: 4.1239 - val_accuracy: 0.5714\n",
            "\n",
            "Epoch 00168: val_loss did not improve from 0.74110\n",
            "Epoch 169/200\n",
            "6/6 [==============================] - 19s 3s/step - loss: 0.0032 - accuracy: 1.0000 - val_loss: 1.7704 - val_accuracy: 0.7714\n",
            "\n",
            "Epoch 00169: val_loss did not improve from 0.74110\n",
            "Epoch 170/200\n",
            "6/6 [==============================] - 19s 3s/step - loss: 6.7706e-04 - accuracy: 1.0000 - val_loss: 1.2925 - val_accuracy: 0.7714\n",
            "\n",
            "Epoch 00170: val_loss did not improve from 0.74110\n",
            "Epoch 171/200\n",
            "6/6 [==============================] - 19s 3s/step - loss: 7.0980e-04 - accuracy: 1.0000 - val_loss: 1.1395 - val_accuracy: 0.7714\n",
            "\n",
            "Epoch 00171: val_loss did not improve from 0.74110\n",
            "Epoch 172/200\n",
            "6/6 [==============================] - 19s 3s/step - loss: 3.2952e-04 - accuracy: 1.0000 - val_loss: 1.1529 - val_accuracy: 0.7714\n",
            "\n",
            "Epoch 00172: val_loss did not improve from 0.74110\n",
            "Epoch 173/200\n",
            "6/6 [==============================] - 19s 3s/step - loss: 7.1931e-05 - accuracy: 1.0000 - val_loss: 1.1707 - val_accuracy: 0.7714\n",
            "\n",
            "Epoch 00173: val_loss did not improve from 0.74110\n",
            "Epoch 174/200\n",
            "6/6 [==============================] - 19s 3s/step - loss: 3.8554e-04 - accuracy: 1.0000 - val_loss: 1.2039 - val_accuracy: 0.7714\n",
            "\n",
            "Epoch 00174: val_loss did not improve from 0.74110\n",
            "Epoch 175/200\n",
            "6/6 [==============================] - 19s 3s/step - loss: 9.1569e-05 - accuracy: 1.0000 - val_loss: 1.2213 - val_accuracy: 0.7714\n",
            "\n",
            "Epoch 00175: val_loss did not improve from 0.74110\n",
            "Epoch 176/200\n",
            "6/6 [==============================] - 19s 3s/step - loss: 2.6307e-04 - accuracy: 1.0000 - val_loss: 1.2435 - val_accuracy: 0.7714\n",
            "\n",
            "Epoch 00176: val_loss did not improve from 0.74110\n",
            "Epoch 177/200\n",
            "6/6 [==============================] - 19s 3s/step - loss: 9.5580e-05 - accuracy: 1.0000 - val_loss: 1.2522 - val_accuracy: 0.7714\n",
            "\n",
            "Epoch 00177: val_loss did not improve from 0.74110\n",
            "Epoch 178/200\n",
            "6/6 [==============================] - 19s 3s/step - loss: 9.0322e-05 - accuracy: 1.0000 - val_loss: 1.2567 - val_accuracy: 0.7714\n",
            "\n",
            "Epoch 00178: val_loss did not improve from 0.74110\n",
            "Epoch 179/200\n",
            "6/6 [==============================] - 19s 3s/step - loss: 1.0327e-04 - accuracy: 1.0000 - val_loss: 1.2547 - val_accuracy: 0.7714\n",
            "\n",
            "Epoch 00179: val_loss did not improve from 0.74110\n",
            "Epoch 180/200\n",
            "6/6 [==============================] - 19s 3s/step - loss: 3.7553e-04 - accuracy: 1.0000 - val_loss: 1.2652 - val_accuracy: 0.7714\n",
            "\n",
            "Epoch 00180: val_loss did not improve from 0.74110\n",
            "Epoch 181/200\n",
            "6/6 [==============================] - 19s 3s/step - loss: 8.4369e-05 - accuracy: 1.0000 - val_loss: 1.2795 - val_accuracy: 0.7714\n",
            "\n",
            "Epoch 00181: val_loss did not improve from 0.74110\n",
            "Epoch 182/200\n",
            "6/6 [==============================] - 19s 3s/step - loss: 1.0075e-04 - accuracy: 1.0000 - val_loss: 1.2874 - val_accuracy: 0.7714\n",
            "\n",
            "Epoch 00182: val_loss did not improve from 0.74110\n",
            "Epoch 183/200\n",
            "6/6 [==============================] - 19s 3s/step - loss: 1.9439e-04 - accuracy: 1.0000 - val_loss: 1.2876 - val_accuracy: 0.7714\n",
            "\n",
            "Epoch 00183: val_loss did not improve from 0.74110\n",
            "Epoch 184/200\n",
            "6/6 [==============================] - 19s 3s/step - loss: 3.0667e-04 - accuracy: 1.0000 - val_loss: 1.2803 - val_accuracy: 0.7714\n",
            "\n",
            "Epoch 00184: val_loss did not improve from 0.74110\n",
            "Epoch 185/200\n",
            "6/6 [==============================] - 19s 3s/step - loss: 1.3814e-04 - accuracy: 1.0000 - val_loss: 1.2824 - val_accuracy: 0.7714\n",
            "\n",
            "Epoch 00185: val_loss did not improve from 0.74110\n",
            "Epoch 186/200\n",
            "6/6 [==============================] - 19s 3s/step - loss: 1.4768e-04 - accuracy: 1.0000 - val_loss: 1.2766 - val_accuracy: 0.7714\n",
            "\n",
            "Epoch 00186: val_loss did not improve from 0.74110\n",
            "Epoch 187/200\n",
            "6/6 [==============================] - 19s 3s/step - loss: 2.8421e-04 - accuracy: 1.0000 - val_loss: 1.2765 - val_accuracy: 0.7714\n",
            "\n",
            "Epoch 00187: val_loss did not improve from 0.74110\n",
            "Epoch 188/200\n",
            "6/6 [==============================] - 19s 3s/step - loss: 2.2598e-04 - accuracy: 1.0000 - val_loss: 1.2691 - val_accuracy: 0.7714\n",
            "\n",
            "Epoch 00188: val_loss did not improve from 0.74110\n",
            "Epoch 189/200\n",
            "6/6 [==============================] - 19s 3s/step - loss: 6.8418e-05 - accuracy: 1.0000 - val_loss: 1.2559 - val_accuracy: 0.7714\n",
            "\n",
            "Epoch 00189: val_loss did not improve from 0.74110\n",
            "Epoch 190/200\n",
            "6/6 [==============================] - 20s 3s/step - loss: 5.5942e-05 - accuracy: 1.0000 - val_loss: 1.2259 - val_accuracy: 0.7714\n",
            "\n",
            "Epoch 00190: val_loss did not improve from 0.74110\n",
            "Epoch 191/200\n",
            "6/6 [==============================] - 19s 3s/step - loss: 4.7010e-04 - accuracy: 1.0000 - val_loss: 1.2494 - val_accuracy: 0.7714\n",
            "\n",
            "Epoch 00191: val_loss did not improve from 0.74110\n",
            "Epoch 192/200\n",
            "6/6 [==============================] - 19s 3s/step - loss: 1.3072e-04 - accuracy: 1.0000 - val_loss: 1.2860 - val_accuracy: 0.7714\n",
            "\n",
            "Epoch 00192: val_loss did not improve from 0.74110\n",
            "Epoch 193/200\n",
            "6/6 [==============================] - 19s 3s/step - loss: 5.1097e-04 - accuracy: 1.0000 - val_loss: 1.2949 - val_accuracy: 0.7714\n",
            "\n",
            "Epoch 00193: val_loss did not improve from 0.74110\n",
            "Epoch 194/200\n",
            "6/6 [==============================] - 19s 3s/step - loss: 6.6967e-05 - accuracy: 1.0000 - val_loss: 1.2754 - val_accuracy: 0.7714\n",
            "\n",
            "Epoch 00194: val_loss did not improve from 0.74110\n",
            "Epoch 195/200\n",
            "6/6 [==============================] - 19s 3s/step - loss: 2.9002e-05 - accuracy: 1.0000 - val_loss: 1.2538 - val_accuracy: 0.7714\n",
            "\n",
            "Epoch 00195: val_loss did not improve from 0.74110\n",
            "Epoch 196/200\n",
            "6/6 [==============================] - 19s 3s/step - loss: 1.6304e-04 - accuracy: 1.0000 - val_loss: 1.2409 - val_accuracy: 0.7714\n",
            "\n",
            "Epoch 00196: val_loss did not improve from 0.74110\n",
            "Epoch 197/200\n",
            "6/6 [==============================] - 19s 3s/step - loss: 1.1334e-04 - accuracy: 1.0000 - val_loss: 1.2311 - val_accuracy: 0.7714\n",
            "\n",
            "Epoch 00197: val_loss did not improve from 0.74110\n",
            "Epoch 198/200\n",
            "6/6 [==============================] - 19s 3s/step - loss: 3.9503e-04 - accuracy: 1.0000 - val_loss: 1.2210 - val_accuracy: 0.7714\n",
            "\n",
            "Epoch 00198: val_loss did not improve from 0.74110\n",
            "Epoch 199/200\n",
            "6/6 [==============================] - 20s 3s/step - loss: 1.9264e-04 - accuracy: 1.0000 - val_loss: 1.2251 - val_accuracy: 0.7714\n",
            "\n",
            "Epoch 00199: val_loss did not improve from 0.74110\n",
            "Epoch 200/200\n",
            "6/6 [==============================] - 19s 3s/step - loss: 5.8548e-05 - accuracy: 1.0000 - val_loss: 1.2197 - val_accuracy: 0.7714\n",
            "\n",
            "Epoch 00200: val_loss did not improve from 0.74110\n"
          ],
          "name": "stdout"
        }
      ]
    },
    {
      "cell_type": "code",
      "metadata": {
        "colab": {
          "base_uri": "https://localhost:8080/",
          "height": 241
        },
        "id": "S8ew9_G8Bsm5",
        "outputId": "ae71ccfc-bac1-411b-c2d8-c12ded3f353d"
      },
      "source": [
        "import matplotlib.pyplot as plt\n",
        "fig, ax = plt.subplots(1, 2, figsize=(20, 3))\n",
        "ax = ax.ravel()\n",
        "\n",
        "for i, met in enumerate(['accuracy','loss']):\n",
        "    ax[i].plot(history.history[met])\n",
        "    ax[i].plot(history.history['val_' + met])\n",
        "    ax[i].set_title('Model {}'.format(met))\n",
        "    ax[i].set_xlabel('epochs')\n",
        "    ax[i].set_ylabel(met)\n",
        "    ax[i].legend(['train', 'val'])"
      ],
      "execution_count": null,
      "outputs": [
        {
          "output_type": "display_data",
          "data": {
            "image/png": "[encoded data removed]",
            "text/plain": [
              "<Figure size 1440x216 with 2 Axes>"
            ]
          },
          "metadata": {
            "tags": [],
            "needs_background": "light"
          }
        }
      ]
    },
    {
      "cell_type": "code",
      "metadata": {
        "colab": {
          "base_uri": "https://localhost:8080/"
        },
        "id": "uOOZrrTiRG2Z",
        "outputId": "8840ac86-8bcf-485c-a706-233bc1e18be6"
      },
      "source": [
        "model.load_weights(filepath)\n",
        "pred = model.predict(x_val, batch_size = 32, verbose = True)"
      ],
      "execution_count": null,
      "outputs": [
        {
          "output_type": "stream",
          "text": [
            "2/2 [==============================] - 0s 60ms/step\n"
          ],
          "name": "stdout"
        }
      ]
    },
    {
      "cell_type": "code",
      "metadata": {
        "id": "VWzxXLsrSXMy"
      },
      "source": [
        "pred=pred.round()\n",
        "pred=pred.reshape(-1)"
      ],
      "execution_count": null,
      "outputs": []
    },
    {
      "cell_type": "code",
      "metadata": {
        "colab": {
          "base_uri": "https://localhost:8080/",
          "height": 654
        },
        "id": "EL2OxuzRStbb",
        "outputId": "0501cf77-2acb-49d4-fad0-9ff665f8fd4b"
      },
      "source": [
        "from sklearn.metrics import confusion_matrix\n",
        "import seaborn as sns\n",
        "\n",
        "labels = ['NORMAL', 'TUMOR']\n",
        "tn, fp, fn, tp = confusion_matrix(y_val, pred).ravel()\n",
        "matrix = confusion_matrix(y_val, pred)\n",
        "plt.figure(figsize=(10, 10))\n",
        "ax= plt.subplot()\n",
        "sns.heatmap(matrix, annot=True, ax = ax)\n",
        "\n",
        "# labels, title and ticks\n",
        "ax.set_xlabel('Predicted Labels', size=20)\n",
        "ax.set_ylabel('True Labels', size=20)\n",
        "ax.set_title('Confusion Matrix', size=20) \n",
        "ax.xaxis.set_ticklabels(labels)\n",
        "ax.yaxis.set_ticklabels(labels)"
      ],
      "execution_count": null,
      "outputs": [
        {
          "output_type": "execute_result",
          "data": {
            "text/plain": [
              "[Text(0, 0.5, 'NORMAL'), Text(0, 1.5, 'TUMOR')]"
            ]
          },
          "metadata": {
            "tags": []
          },
          "execution_count": 36
        },
        {
          "output_type": "display_data",
          "data": {
            "image/png": "[encoded data removed]",
            "text/plain": [
              "<Figure size 720x720 with 2 Axes>"
            ]
          },
          "metadata": {
            "tags": [],
            "needs_background": "light"
          }
        }
      ]
    },
    {
      "cell_type": "code",
      "metadata": {
        "colab": {
          "base_uri": "https://localhost:8080/"
        },
        "id": "m5CNjigWS_uS",
        "outputId": "0595e339-59f0-4ad7-d7e3-5183644cd618"
      },
      "source": [
        "accuracy = (tp+tn)/(tp+tn+fn+fp)\n",
        "precision = tp/(tp+fp)\n",
        "recall = tp/(tp+fn)\n",
        "f1_score = 2*((precision*recall)/(precision+recall))\n",
        "\n",
        "print('accuracy score on test data:',accuracy)\n",
        "print('precision score on test data:',precision)\n",
        "print('recall score on test data:',recall)\n",
        "print('f1_score on test data:',f1_score)"
      ],
      "execution_count": null,
      "outputs": [
        {
          "output_type": "stream",
          "text": [
            "accuracy score on test data: 0.8\n",
            "precision score on test data: 0.9411764705882353\n",
            "recall score on test data: 0.7272727272727273\n",
            "f1_score on test data: 0.8205128205128205\n"
          ],
          "name": "stdout"
        }
      ]
    },
    {
      "cell_type": "code",
      "metadata": {
        "id": "3hORbdfrT5rD"
      },
      "source": [
        ""
      ],
      "execution_count": null,
      "outputs": []
    }
  ]
}